{
 "cells": [
  {
   "cell_type": "markdown",
   "id": "796386aa",
   "metadata": {},
   "source": [
    "# 10장 노트 정리\n",
    "\n",
    "\n",
    "|학과|학번|이름|작성일|\n",
    "|----|----|----|----|\n",
    "|컴퓨터공학과|202111615|함기은|2025-10-28|"
   ]
  },
  {
   "cell_type": "code",
   "execution_count": null,
   "id": "034121dc",
   "metadata": {},
   "outputs": [
    {
     "name": "stdout",
     "output_type": "stream",
     "text": [
      "3232235521\n",
      "42540766411282592856903984951653826561\n",
      "192.168.0.1\n",
      "2001:db8::1\n"
     ]
    },
    {
     "ename": "TypeError",
     "evalue": "'bool' object is not callable",
     "output_type": "error",
     "traceback": [
      "\u001b[31m---------------------------------------------------------------------------\u001b[39m",
      "\u001b[31mTypeError\u001b[39m                                 Traceback (most recent call last)",
      "\u001b[36mCell\u001b[39m\u001b[36m \u001b[39m\u001b[32mIn[2]\u001b[39m\u001b[32m, line 13\u001b[39m\n\u001b[32m     10\u001b[39m \u001b[38;5;28mprint\u001b[39m(\u001b[38;5;28mstr\u001b[39m(a4))\n\u001b[32m     11\u001b[39m \u001b[38;5;28mprint\u001b[39m(\u001b[38;5;28mstr\u001b[39m(a6))\n\u001b[32m---> \u001b[39m\u001b[32m13\u001b[39m \u001b[43ma4\u001b[49m\u001b[43m.\u001b[49m\u001b[43mis_global\u001b[49m\u001b[43m(\u001b[49m\u001b[43m)\u001b[49m\n\u001b[32m     14\u001b[39m a4.is_loopback\n",
      "\u001b[31mTypeError\u001b[39m: 'bool' object is not callable"
     ]
    }
   ],
   "source": [
    "import ipaddress\n",
    "\n",
    "a4 = ipaddress.ip_address('192.168.0.1')\n",
    "a4\n",
    "a6 = ipaddress.ip_address('2001:DB8::1')\n",
    "a6\n",
    "\n",
    "print(int(a4))\n",
    "print(int(a6))\n",
    "print(str(a4))\n",
    "print(str(a6))\n",
    "\n",
    "#a4.is_global()\n",
    "#a4.is_loopback\n"
   ]
  }
 ],
 "metadata": {
  "kernelspec": {
   "display_name": ".venv (3.13.5)",
   "language": "python",
   "name": "python3"
  },
  "language_info": {
   "codemirror_mode": {
    "name": "ipython",
    "version": 3
   },
   "file_extension": ".py",
   "mimetype": "text/x-python",
   "name": "python",
   "nbconvert_exporter": "python",
   "pygments_lexer": "ipython3",
   "version": "3.13.5"
  }
 },
 "nbformat": 4,
 "nbformat_minor": 5
}
