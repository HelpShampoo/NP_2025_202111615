{
 "cells": [
  {
   "cell_type": "markdown",
   "id": "81502d66",
   "metadata": {},
   "source": [
    "# 1주차 파이썬 자료구조 코드 예시 작성\n",
    "\n",
    "이 파일은 1주차 학습하면서 실행한 내용을 정리한 것이다.\n",
    "\n",
    "날짜: 2025.09.01\n",
    "\n",
    "저자: 함기은\n",
    "\n",
    "학번: 202111615"
   ]
  },
  {
   "cell_type": "code",
   "execution_count": 4,
   "id": "b0c1380c",
   "metadata": {},
   "outputs": [
    {
     "name": "stdout",
     "output_type": "stream",
     "text": [
      "Hello, main branch 입니다\n"
     ]
    }
   ],
   "source": [
    "#a.py\n",
    "print(\"Hello, main branch 입니다\")\n"
   ]
  },
  {
   "cell_type": "code",
   "execution_count": 5,
   "id": "f577af29",
   "metadata": {},
   "outputs": [
    {
     "name": "stdout",
     "output_type": "stream",
     "text": [
      "somebranch 입니다\n"
     ]
    }
   ],
   "source": [
    "#b.py\n",
    "print(\"somebranch 입니다\")"
   ]
  },
  {
   "cell_type": "code",
   "execution_count": 6,
   "id": "bac945e5",
   "metadata": {},
   "outputs": [],
   "source": [
    "# first.py\n",
    "\n",
    "list = [1,2,3]\n",
    "set = {1,2,3}\n",
    "dict = {'a':1, 'b':2, 'c':3}\n",
    "tuple = {1,2,3}"
   ]
  },
  {
   "cell_type": "code",
   "execution_count": 7,
   "id": "3c532a4b",
   "metadata": {},
   "outputs": [
    {
     "name": "stdout",
     "output_type": "stream",
     "text": [
      "Hello World!\n"
     ]
    }
   ],
   "source": [
    "#hello.py\n",
    "print(\"Hello World!\")"
   ]
  }
 ],
 "metadata": {
  "kernelspec": {
   "display_name": ".venv (3.13.5)",
   "language": "python",
   "name": "python3"
  },
  "language_info": {
   "codemirror_mode": {
    "name": "ipython",
    "version": 3
   },
   "file_extension": ".py",
   "mimetype": "text/x-python",
   "name": "python",
   "nbconvert_exporter": "python",
   "pygments_lexer": "ipython3",
   "version": "3.13.5"
  }
 },
 "nbformat": 4,
 "nbformat_minor": 5
}
