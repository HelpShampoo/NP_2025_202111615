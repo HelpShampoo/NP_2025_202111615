{
 "cells": [
  {
   "cell_type": "markdown",
   "id": "e9250c03",
   "metadata": {},
   "source": [
    "# 6장 6-7 연습문제\n",
    "\n",
    "\n",
    "|학과|학번|이름|작성일|\n",
    "|----|----|----|----|\n",
    "|컴퓨터공학과|202111615|함기은|2025-09-23|"
   ]
  },
  {
   "cell_type": "markdown",
   "id": "f71aa7ba",
   "metadata": {},
   "source": [
    "* 다음 Person 클래스를 상속 받는 Employee 클래스를 정의하라. Employee 클래스에\n",
    "employeeID 속성을 추가하고 getID() 메소드를 정의하라. getID() 메소드는 employeeID를\n",
    "반환하는 메소드이다.\n",
    "Employee 클래스를 이용하여 Employee(\"동양\", 65, 2019)로 생성된 객체의 이름, 나이, ID\n",
    "를 출력하라.\n",
    "\n",
    "```Python\n",
    "class Person:\n",
    "def __init__(self, name, age):\n",
    "self.name = name\n",
    "self.age = age\n",
    "def getName(self):\n",
    "print(self.name)\n",
    "def getAge(self):\n",
    "print(self.age)\n",
    "```"
   ]
  },
  {
   "cell_type": "code",
   "execution_count": 1,
   "id": "0dce4f47",
   "metadata": {},
   "outputs": [
    {
     "name": "stdout",
     "output_type": "stream",
     "text": [
      "이름: 동양\n",
      "나이: 65\n",
      "ID: 2019\n"
     ]
    }
   ],
   "source": [
    "# -*- coding: utf-8 -*-\n",
    "\"\"\"\n",
    "연습문제 6-7: Person 클래스를 상속받는 Employee 클래스 정의\n",
    "\"\"\"\n",
    "\n",
    "class Person:\n",
    "    \"\"\"\n",
    "    사람을 나타내는 기본 클래스. 이름과 나이 속성을 가집니다.\n",
    "    \"\"\"\n",
    "    def __init__(self, name: str, age: int):\n",
    "        \"\"\"\n",
    "        Person 클래스의 인스턴스를 초기화합니다.\n",
    "\n",
    "        Args:\n",
    "            name (str): 사람의 이름.\n",
    "            age (int): 사람의 나이.\n",
    "        \"\"\"\n",
    "        self.name = name\n",
    "        self.age = age\n",
    "\n",
    "    def get_name(self) -> str:\n",
    "        \"\"\" 사람의 이름을 반환합니다. \"\"\"\n",
    "        return self.name\n",
    "\n",
    "    def get_age(self) -> int:\n",
    "        \"\"\" 사람의 나이를 반환합니다. \"\"\"\n",
    "        return self.age\n",
    "\n",
    "\n",
    "class Employee(Person):\n",
    "    \"\"\"\n",
    "    Person 클래스를 상속받는 직원 클래스.\n",
    "    employee_id 속성과 get_id 메소드를 추가로 가집니다.\n",
    "    \"\"\"\n",
    "    def __init__(self, name: str, age: int, employee_id: int):\n",
    "        \"\"\"\n",
    "        Employee 클래스의 인스턴스를 초기화합니다.\n",
    "\n",
    "        Args:\n",
    "            name (str): 직원의 이름.\n",
    "            age (int): 직원의 나이.\n",
    "            employee_id (int): 직원의 사원 ID.\n",
    "        \"\"\"\n",
    "        super().__init__(name, age) # 부모 클래스의 생성자 호출\n",
    "        self.employee_id = employee_id\n",
    "\n",
    "    def get_id(self) -> int:\n",
    "        \"\"\"\n",
    "        직원의 사원 ID를 반환합니다.\n",
    "\n",
    "        Returns:\n",
    "            int: 직원의 사원 ID.\n",
    "        \"\"\"\n",
    "        return self.employee_id\n",
    "\n",
    "# --- 테스트 코드 ---\n",
    "if __name__ == \"__main__\":\n",
    "    # Employee(\"동양\", 65, 2019)로 객체 생성\n",
    "    emp = Employee(\"동양\", 65, 2019)\n",
    "\n",
    "    # 이름, 나이, ID 출력\n",
    "    print(f\"이름: {emp.get_name()}\")\n",
    "    print(f\"나이: {emp.get_age()}\")\n",
    "    print(f\"ID: {emp.get_id()}\")"
   ]
  }
 ],
 "metadata": {
  "kernelspec": {
   "display_name": "Python 3",
   "language": "python",
   "name": "python3"
  },
  "language_info": {
   "codemirror_mode": {
    "name": "ipython",
    "version": 3
   },
   "file_extension": ".py",
   "mimetype": "text/x-python",
   "name": "python",
   "nbconvert_exporter": "python",
   "pygments_lexer": "ipython3",
   "version": "3.13.5"
  }
 },
 "nbformat": 4,
 "nbformat_minor": 5
}
