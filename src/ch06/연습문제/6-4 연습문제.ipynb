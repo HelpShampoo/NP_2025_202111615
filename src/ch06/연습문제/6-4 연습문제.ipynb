{
 "cells": [
  {
   "cell_type": "markdown",
   "id": "60e0df32",
   "metadata": {},
   "source": [
    "# 6장 6-4 연습문제\n",
    "\n",
    "\n",
    "|학과|학번|이름|작성일|\n",
    "|----|----|----|----|\n",
    "|컴퓨터공학과|202111615|함기은|2025-09-23|"
   ]
  },
  {
   "cell_type": "markdown",
   "id": "f8d3981a",
   "metadata": {},
   "source": [
    "```\n",
    "* Password_manager 클래스를 작성하라. 이 클래스는 사용자의 모든 과거 패스워드를 저장하\n",
    "는 old_passwords 리스트 변수를 갖는다. 리스트의 마지막 요소는 현재 패스워드이다. 현재 패\n",
    "스워드를 알려주는 get_password와 새로운 패스워드를 설정하는 set_password 메소드를 정\n",
    "의하라. set_password는 과거에 사용하지 않은 새로운 패스워드를 설정할 때만 유효하다. 문자\n",
    "열을 입력받아 현재 패스워드와 같은지 True 또는 False를 반환하는 is_correct 메소드를 정의\n",
    "하라.\n",
    "```"
   ]
  },
  {
   "cell_type": "code",
   "execution_count": 2,
   "id": "1307b992",
   "metadata": {},
   "outputs": [
    {
     "name": "stdout",
     "output_type": "stream",
     "text": [
      "현재 패스워드: my_password\n",
      "'my_password'는 올바른 패스워드인가? True\n",
      "'wrong_password'는 올바른 패스워드인가? False\n",
      "패스워드가 성공적으로 변경되었습니다.\n",
      "새로운 현재 패스워드: new_password123\n",
      "과거에 사용했던 패스워드입니다. 다른 패스워드를 사용해주세요.\n",
      "현재 패스워드 (변경 시도 후): new_password123\n",
      "모든 과거 패스워드: ['my_password', 'new_password123']\n"
     ]
    }
   ],
   "source": [
    "class Password_manager:\n",
    "    \"\"\"\n",
    "    사용자의 과거 패스워드를 관리하는 클래스.\n",
    "    \"\"\"\n",
    "    def __init__(self, initial_password):\n",
    "        \"\"\"\n",
    "        Password_manager 클래스의 인스턴스를 초기화합니다.\n",
    "        초기 패스워드로 old_passwords 리스트를 설정합니다.\n",
    "\n",
    "        Args:\n",
    "            initial_password (str): 사용자의 초기 패스워드.\n",
    "        \"\"\"\n",
    "        if not isinstance(initial_password, str) or not initial_password:\n",
    "            raise ValueError(\"초기 패스워드는 비어 있지 않은 문자열이어야 합니다.\")\n",
    "        self.old_passwords = [initial_password]\n",
    "\n",
    "    def get_password(self):\n",
    "        \"\"\"\n",
    "        현재 패스워드를 반환합니다.\n",
    "\n",
    "        Returns:\n",
    "            str: 현재 패스워드.\n",
    "        \"\"\"\n",
    "        return self.old_passwords[-1]\n",
    "\n",
    "    def set_password(self, new_password):\n",
    "        \"\"\"\n",
    "        새로운 패스워드를 설정합니다.\n",
    "        새로운 패스워드가 과거에 사용된 적이 없어야 유효합니다.\n",
    "\n",
    "        Args:\n",
    "            new_password (str): 설정할 새로운 패스워드.\n",
    "\n",
    "        Returns:\n",
    "            bool: 패스워드 설정 성공 여부.\n",
    "        \"\"\"\n",
    "        if new_password not in self.old_passwords:\n",
    "            self.old_passwords.append(new_password)\n",
    "            print(\"패스워드가 성공적으로 변경되었습니다.\")\n",
    "            return True\n",
    "        else:\n",
    "            print(\"과거에 사용했던 패스워드입니다. 다른 패스워드를 사용해주세요.\")\n",
    "            return False\n",
    "\n",
    "    def is_correct(self, password_to_check):\n",
    "        \"\"\"\n",
    "        입력된 문자열이 현재 패스워드와 같은지 확인합니다.\n",
    "\n",
    "        Args:\n",
    "            password_to_check (str): 확인할 패스워드 문자열.\n",
    "\n",
    "        Returns:\n",
    "            bool: 현재 패스워드와 일치하면 True, 그렇지 않으면 False.\n",
    "        \"\"\"\n",
    "        return password_to_check == self.get_password()\n",
    "\n",
    "# 테스트 코드\n",
    "try:\n",
    "    # 1. 'my_password'로 초기화\n",
    "    my_pwd = Password_manager('my_password')\n",
    "    print(f\"현재 패스워드: {my_pwd.get_password()}\") # 출력: 현재 패스워드: my_password\n",
    "\n",
    "    # 2. 현재 패스워드 확인\n",
    "    print(f\"'my_password'는 올바른 패스워드인가? {my_pwd.is_correct('my_password')}\") # 출력: True\n",
    "    print(f\"'wrong_password'는 올바른 패스워드인가? {my_pwd.is_correct('wrong_password')}\") # 출력: False\n",
    "\n",
    "    # 3. 새로운 패스워드 'new_password123' 설정\n",
    "    my_pwd.set_password('new_password123') # 출력: 패스워드가 성공적으로 변경되었습니다.\n",
    "    print(f\"새로운 현재 패스워드: {my_pwd.get_password()}\") # 출력: 새로운 현재 패스워드: new_password123\n",
    "\n",
    "    # 4. 과거에 사용했던 패스워드로 변경 시도\n",
    "    my_pwd.set_password('my_password') # 출력: 과거에 사용했던 패스워드입니다. 다른 패스워드를 사용해주세요.\n",
    "    print(f\"현재 패스워드 (변경 시도 후): {my_pwd.get_password()}\") # 출력: 현재 패스워드 (변경 시도 후): new_password123\n",
    "\n",
    "    # 5. old_passwords 리스트 확인\n",
    "    print(f\"모든 과거 패스워드: {my_pwd.old_passwords}\") # 출력: 모든 과거 패스워드: ['my_password', 'new_password123']\n",
    "\n",
    "except ValueError as e:\n",
    "    print(f\"오류 발생: {e}\")"
   ]
  }
 ],
 "metadata": {
  "kernelspec": {
   "display_name": "Python 3",
   "language": "python",
   "name": "python3"
  },
  "language_info": {
   "codemirror_mode": {
    "name": "ipython",
    "version": 3
   },
   "file_extension": ".py",
   "mimetype": "text/x-python",
   "name": "python",
   "nbconvert_exporter": "python",
   "pygments_lexer": "ipython3",
   "version": "3.13.5"
  }
 },
 "nbformat": 4,
 "nbformat_minor": 5
}
