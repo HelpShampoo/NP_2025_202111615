{
 "cells": [
  {
   "cell_type": "markdown",
   "id": "6d70bd44",
   "metadata": {},
   "source": [
    "# 6장 6-3 연습문제\n",
    "\n",
    "\n",
    "|학과|학번|이름|작성일|\n",
    "|----|----|----|----|\n",
    "|컴퓨터공학과|202111615|함기은|2025-09-23|"
   ]
  },
  {
   "cell_type": "markdown",
   "id": "effd23a7",
   "metadata": {},
   "source": [
    "1. Moneybox 클래스를 작성하라. 이 클래스는 저축한 총액을 저장하는 인스턴스 변수가 있다.\n",
    "deposit(money) 메서드는 인수로 주어진 금액만큼 저축하고 총액을 출력한다,\n",
    "extract(money) 메소드는 money를 인출하고 총액을 출력한다. get_total() 메소드는 총액을\n",
    "알려준다."
   ]
  },
  {
   "cell_type": "code",
   "execution_count": null,
   "id": "770e3917",
   "metadata": {},
   "outputs": [
    {
     "name": "stdout",
     "output_type": "stream",
     "text": [
      "입금액:  100\n",
      "잔액:  1100\n",
      "출금액:  10\n",
      "잔액:  1090\n"
     ]
    }
   ],
   "source": [
    "class Moneybox:\n",
    "    def __init__(self, money): # 초기화 메소드. self는 객체를 나타냄\n",
    "        self.money = money # 인스턴스 변수 정의\n",
    "\n",
    "    def deposit(self, money):\n",
    "        self.money = self.money + money\n",
    "        print('입금액: ', money)\n",
    "        # print(\"잔액: \", self.money)\n",
    "        print(\"잔액: \", self.get_total())\n",
    "\n",
    "    def extract(self, money):\n",
    "        self.money = self.money - money\n",
    "        print('출금액: ', money)\n",
    "        # print('잔액: ', self.money)\n",
    "        print(\"잔액: \", self.get_total())\n",
    "        \n",
    "    def get_total(self):\n",
    "        return self.money\n",
    "\n",
    "mymoneybox = Moneybox(1000) # Moneybox class 객체(인스턴스) 생성\n",
    "mymoneybox.deposit(100) # 100원 입금\n",
    "mymoneybox.extract(10) # 10원 출금\n"
   ]
  },
  {
   "cell_type": "markdown",
   "id": "6648b1f2",
   "metadata": {},
   "source": [
    "2. my_money = Moneybox() 객체를 생성하고 1000원을 저축하고, 200원을 인출한 다음, 총액을 출력하라."
   ]
  },
  {
   "cell_type": "code",
   "execution_count": 12,
   "id": "fd297962",
   "metadata": {},
   "outputs": [
    {
     "name": "stdout",
     "output_type": "stream",
     "text": [
      "입금액:  1000\n",
      "잔액:  1000\n",
      "출금액:  200\n",
      "잔액:  800\n"
     ]
    }
   ],
   "source": [
    "class Moneybox:\n",
    "    def __init__(self, money): # 초기화 메소드. self는 객체를 나타냄\n",
    "        self.money = money # 인스턴스 변수 정의\n",
    "\n",
    "    def deposit(self, money):\n",
    "        self.money = self.money + money\n",
    "        print('입금액: ', money)\n",
    "        # print(\"잔액: \", self.money)\n",
    "        print(\"잔액: \", self.get_total())\n",
    "\n",
    "    def extract(self, money):\n",
    "        self.money = self.money - money\n",
    "        print('출금액: ', money)\n",
    "        # print('잔액: ', self.money)\n",
    "        print(\"잔액: \", self.get_total())\n",
    "        \n",
    "    def get_total(self):\n",
    "        return self.money\n",
    "\n",
    "\n",
    "# mymoneybox = Moneybox(0) # Moneybox class 객체(인스턴스) 생성\n",
    "# mymoneybox.deposit(1000) # 1000원 입금\n",
    "# mymoneybox.extract(200) # 200원 출금\n",
    "\n",
    "my_money = Moneybox(0) # Moneybox class 객체(인스턴스) 생성\n",
    "my_money.deposit(1000) # 1000원 입금\n",
    "my_money.extract(200) # 200원 출금"
   ]
  }
 ],
 "metadata": {
  "kernelspec": {
   "display_name": "Python 3",
   "language": "python",
   "name": "python3"
  },
  "language_info": {
   "codemirror_mode": {
    "name": "ipython",
    "version": 3
   },
   "file_extension": ".py",
   "mimetype": "text/x-python",
   "name": "python",
   "nbconvert_exporter": "python",
   "pygments_lexer": "ipython3",
   "version": "3.13.5"
  }
 },
 "nbformat": 4,
 "nbformat_minor": 5
}
