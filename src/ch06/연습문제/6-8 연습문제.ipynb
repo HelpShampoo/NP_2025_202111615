{
 "cells": [
  {
   "cell_type": "markdown",
   "id": "a41e559f",
   "metadata": {},
   "source": [
    "# 6장 6-8 연습문제\n",
    "\n",
    "\n",
    "|학과|학번|이름|작성일|\n",
    "|----|----|----|----|\n",
    "|컴퓨터공학과|202111615|함기은|2025-09-23|"
   ]
  },
  {
   "cell_type": "markdown",
   "id": "2e3bd3a1",
   "metadata": {},
   "source": [
    "* 앞의 Person 클래스에서 새로운 Person 객체가 생성될 때 ID를 1001번지부터 순차적으로 자\n",
    "동으로 부여할 수 있도록 Employee 클래스를 포함해서 변경하시오. 새로운 Employee객체를\n",
    "만들어 getId() 를 호출할 때 Id가 중복되면 안된다.\n",
    "\n",
    "```Python\n",
    "class Person:\n",
    "def __init__(self, name, age):\n",
    "self.name = name\n",
    "self.age = age\n",
    "self.__id = ++count\n",
    "def getId(self):\n",
    "print(self.__id)\n",
    "def getAge(self):\n",
    "print(self.age)\n",
    "…\n",
    "```"
   ]
  },
  {
   "cell_type": "code",
   "execution_count": 1,
   "id": "75e85705",
   "metadata": {},
   "outputs": [
    {
     "name": "stdout",
     "output_type": "stream",
     "text": [
      "--- Person 객체 생성 ---\n",
      "이름: 홍길동, 나이: 30, ID: 1001\n",
      "이름: 성춘향, 나이: 25, ID: 1002\n",
      "\n",
      "--- Employee 객체 생성 ---\n",
      "이름: 김철수, 나이: 45, ID: 1003\n",
      "이름: 이영희, 나이: 38, ID: 1004\n"
     ]
    }
   ],
   "source": [
    "# -*- coding: utf-8 -*-\n",
    "\"\"\"\n",
    "연습문제 6-8: ID가 자동으로 부여되는 Person과 Employee 클래스\n",
    "\"\"\"\n",
    "\n",
    "class Person:\n",
    "    \"\"\"\n",
    "    사람을 나타내는 클래스. 객체 생성 시 1001번부터 순차적으로 ID를 자동 부여합니다.\n",
    "    \"\"\"\n",
    "    # 클래스 변수로 ID 카운터 초기화\n",
    "    __id_counter = 1000\n",
    "\n",
    "    def __init__(self, name: str, age: int):\n",
    "        \"\"\"\n",
    "        Person 클래스의 인스턴스를 초기화합니다.\n",
    "\n",
    "        Args:\n",
    "            name (str): 사람의 이름.\n",
    "            age (int): 사람의 나이.\n",
    "        \"\"\"\n",
    "        self.name = name\n",
    "        self.age = age\n",
    "        Person.__id_counter += 1\n",
    "        self.__id = Person.__id_counter # 비공개 인스턴스 변수로 ID 할당\n",
    "\n",
    "    def get_id(self) -> int:\n",
    "        \"\"\" 할당된 ID를 반환합니다. \"\"\"\n",
    "        return self.__id\n",
    "\n",
    "    def get_name(self) -> str:\n",
    "        \"\"\" 사람의 이름을 반환합니다. \"\"\"\n",
    "        return self.name\n",
    "\n",
    "    def get_age(self) -> int:\n",
    "        \"\"\" 사람의 나이를 반환합니다. \"\"\"\n",
    "        return self.age\n",
    "\n",
    "class Employee(Person):\n",
    "    \"\"\"\n",
    "    Person 클래스를 상속받는 직원 클래스.\n",
    "    Person 클래스의 자동 ID 부여 기능을 그대로 사용합니다.\n",
    "    \"\"\"\n",
    "    pass\n",
    "\n",
    "# --- 테스트 코드 ---\n",
    "if __name__ == \"__main__\":\n",
    "    print(\"--- Person 객체 생성 ---\")\n",
    "    person1 = Person(\"홍길동\", 30)\n",
    "    print(f\"이름: {person1.get_name()}, 나이: {person1.get_age()}, ID: {person1.get_id()}\")\n",
    "\n",
    "    person2 = Person(\"성춘향\", 25)\n",
    "    print(f\"이름: {person2.get_name()}, 나이: {person2.get_age()}, ID: {person2.get_id()}\")\n",
    "\n",
    "    print(\"\\n--- Employee 객체 생성 ---\")\n",
    "    employee1 = Employee(\"김철수\", 45)\n",
    "    print(f\"이름: {employee1.get_name()}, 나이: {employee1.get_age()}, ID: {employee1.get_id()}\")\n",
    "\n",
    "    employee2 = Employee(\"이영희\", 38)\n",
    "    print(f\"이름: {employee2.get_name()}, 나이: {employee2.get_age()}, ID: {employee2.get_id()}\")"
   ]
  }
 ],
 "metadata": {
  "kernelspec": {
   "display_name": "Python 3",
   "language": "python",
   "name": "python3"
  },
  "language_info": {
   "codemirror_mode": {
    "name": "ipython",
    "version": 3
   },
   "file_extension": ".py",
   "mimetype": "text/x-python",
   "name": "python",
   "nbconvert_exporter": "python",
   "pygments_lexer": "ipython3",
   "version": "3.13.5"
  }
 },
 "nbformat": 4,
 "nbformat_minor": 5
}
