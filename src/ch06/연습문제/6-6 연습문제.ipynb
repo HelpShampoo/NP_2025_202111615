{
 "cells": [
  {
   "cell_type": "markdown",
   "id": "e1506bf6",
   "metadata": {},
   "source": [
    "# 6장 6-6 연습문제\n",
    "\n",
    "\n",
    "|학과|학번|이름|작성일|\n",
    "|----|----|----|----|\n",
    "|컴퓨터공학과|202111615|함기은|2025-09-23|"
   ]
  },
  {
   "cell_type": "markdown",
   "id": "c641667d",
   "metadata": {},
   "source": [
    "* 다음 프로그램을 실행했을 때 아래 내용이 출력되도록 클래스를 정의하라. 학번(id) 앞 4자리가\n",
    "2018보다 작으면 grade() 메소드에 의해 “3학년입니다“가 출력되고 아니면 ”3학년이 아닙\n",
    "니다“가 출력된다.\n",
    "\n",
    "```Python\n",
    "...\n",
    "man = Student(name = “홍길동”, id = 20150001, dept = “로봇공학과”)\n",
    "print(“이름: {}, 학번: {}, 학과: {}”.format(man.name, man.id,\n",
    "man.dept))\n",
    "man.grade()\n",
    "```\n",
    "\n",
    "[출력 내용]\n",
    "이름: 홍길동, 학번: 20150001, 학과: 로봇공학과\n",
    "3학년입니다"
   ]
  },
  {
   "cell_type": "code",
   "execution_count": 1,
   "id": "7a5e0b16",
   "metadata": {},
   "outputs": [
    {
     "name": "stdout",
     "output_type": "stream",
     "text": [
      "이름: 홍길동, 학번: 20150001, 학과: 로봇공학과\n",
      "3학년입니다\n",
      "--------------------\n",
      "이름: 성춘향, 학번: 20190002, 학과: 컴퓨터공학과\n",
      "3학년이 아닙니다\n"
     ]
    }
   ],
   "source": [
    "# -*- coding: utf-8 -*-\n",
    "\"\"\"\n",
    "연습문제 6-6: Student 클래스 정의\n",
    "\"\"\"\n",
    "\n",
    "class Student:\n",
    "    \"\"\"\n",
    "    학생 정보를 나타내는 클래스.\n",
    "    이름, 학번, 학과 정보를 가지고 있으며 학년을 판별하는 메소드를 포함합니다.\n",
    "    \"\"\"\n",
    "    def __init__(self, name: str, id: int, dept: str):\n",
    "        \"\"\"\n",
    "        Student 클래스의 인스턴스를 초기화합니다.\n",
    "\n",
    "        Args:\n",
    "            name (str): 학생의 이름.\n",
    "            id (int): 학생의 학번.\n",
    "            dept (str): 학생의 학과.\n",
    "        \"\"\"\n",
    "        self.name = name\n",
    "        self.id = id\n",
    "        self.dept = dept\n",
    "\n",
    "    def grade(self) -> None:\n",
    "        \"\"\"\n",
    "        학번 앞 4자리를 기준으로 학년을 판별하여 출력합니다.\n",
    "        2018보다 작으면 \"3학년입니다\", 아니면 \"3학년이 아닙니다\"를 출력합니다.\n",
    "        \"\"\"\n",
    "        entry_year = int(str(self.id)[:4])\n",
    "\n",
    "        if entry_year < 2018:\n",
    "            print(\"3학년입니다\")\n",
    "        else:\n",
    "            print(\"3학년이 아닙니다\")\n",
    "\n",
    "# --- 테스트 코드 ---\n",
    "if __name__ == \"__main__\":\n",
    "    # 문제에서 제시된 코드 실행\n",
    "    man = Student(name=\"홍길동\", id=20150001, dept=\"로봇공학과\")\n",
    "    print(f\"이름: {man.name}, 학번: {man.id}, 학과: {man.dept}\")\n",
    "    man.grade()\n",
    "\n",
    "    print(\"-\" * 20)\n",
    "\n",
    "    # 다른 예시\n",
    "    woman = Student(name=\"성춘향\", id=20190002, dept=\"컴퓨터공학과\")\n",
    "    print(f\"이름: {woman.name}, 학번: {woman.id}, 학과: {woman.dept}\")\n",
    "    woman.grade()"
   ]
  }
 ],
 "metadata": {
  "kernelspec": {
   "display_name": "Python 3",
   "language": "python",
   "name": "python3"
  },
  "language_info": {
   "codemirror_mode": {
    "name": "ipython",
    "version": 3
   },
   "file_extension": ".py",
   "mimetype": "text/x-python",
   "name": "python",
   "nbconvert_exporter": "python",
   "pygments_lexer": "ipython3",
   "version": "3.13.5"
  }
 },
 "nbformat": 4,
 "nbformat_minor": 5
}
