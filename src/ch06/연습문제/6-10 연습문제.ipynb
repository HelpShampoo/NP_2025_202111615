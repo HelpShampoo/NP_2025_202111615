{
 "cells": [
  {
   "cell_type": "markdown",
   "id": "b0965fde",
   "metadata": {},
   "source": [
    "# 6장 6-10 연습문제\n",
    "\n",
    "\n",
    "|학과|학번|이름|작성일|\n",
    "|----|----|----|----|\n",
    "|컴퓨터공학과|202111615|함기은|2025-09-24|"
   ]
  },
  {
   "cell_type": "markdown",
   "id": "f0f042a8",
   "metadata": {},
   "source": [
    "* 동물(Animal)을 울음을 추상 메소드로 하는 추상클래스로 정의하고,\n",
    "    * 개(Dog)와 고양이(Cat)를 구체적인 클래스로 정의한 후,\n",
    "    * 각 동물의 울음소리를 출력하는 프로그램을 작성하시오.\n",
    "    * 각 동물객체는 자신의 이름을 속성으로 가지며,\n",
    "    * 생성자에서 이름을 초기화합니다.\n",
    "    * 추가적으로 Animal 클래스는 현재 생성된 동물 객체의 수를 클래스 변수로 가지고,\n",
    "    * 정적 메소드로 현재 동물 객체의 수를 반환하는 메소드를 구현\n",
    "    * 객체가 생성(__init__)될 때 객체의 수를 증가하고 삭제(__del__(self) ) 될 때 객체의 수를 감소\n",
    "* 테스트\n",
    "    * 개나 고양이 객체들을 리스트로 생성하고 개나 Animal 변수로 받아 동적 바인딩이 되는지 확인\n",
    "    하시오.\n",
    "    * 모든 객체들이 울게 하는 함수를 작성하여 테스트하시오."
   ]
  },
  {
   "cell_type": "code",
   "execution_count": 3,
   "id": "f91cda7e",
   "metadata": {},
   "outputs": [
    {
     "name": "stdout",
     "output_type": "stream",
     "text": [
      "춘식이이 멍멍하고 울어요\n",
      "야옹이이 야옹하고 울어요\n",
      "현재 동물 수: 2\n",
      "바둑이이 멍멍하고 울어요\n",
      "현재 동물 수: 3\n",
      "토리이 멍멍하고 울어요\n",
      "나비이 야옹하고 울어요\n",
      "멍멍이이 멍멍하고 울어요\n",
      "야옹이이 야옹하고 울어요\n"
     ]
    }
   ],
   "source": [
    "from abc import ABC, abstractmethod\n",
    "\n",
    "class Animal(ABC):\n",
    "    animal_count = 0 # 클래스 변수로 동물 객체 수를 저장\n",
    "\n",
    "    def __init__(self):\n",
    "        Animal.animal_count += 1 # 객체가 생성될 때마다 카운트 증가\n",
    "\n",
    "    @abstractmethod\n",
    "    def sound(self):\n",
    "        pass\n",
    "        ## return \"동물은 물어요\"\n",
    "    \n",
    "    @staticmethod\n",
    "    def get_animal_count():\n",
    "        return Animal.animal_count # 현재 동물 객체 수 반환\n",
    "\n",
    "class Dog(Animal):\n",
    "    def __init__(self, __name):\n",
    "        super().__init__() # 부모 클래스의 생성자 호출\n",
    "        self.__name = __name\n",
    "    \n",
    "    def sound(self):\n",
    "        return f\"{self.__name}이 멍멍하고 울어요\"\n",
    "\n",
    "class Cat(Animal):\n",
    "    def __init__(self, __name):\n",
    "        super().__init__() # 부모 클래스의 생성자 호출\n",
    "        self.__name = __name\n",
    "    \n",
    "    def sound(self):\n",
    "        return f\"{self.__name}이 야옹하고 울어요\"\n",
    "\n",
    "if __name__ == \"__main__\":\n",
    "    mydog = Dog(\"춘식이\")\n",
    "    mycat = Cat(\"야옹이\")\n",
    "    # mydog : Dog = Dog(\"춘식이\") \n",
    "    # mycat : Cat = Cat(\"야옹이\")\n",
    "    print(mydog.sound())\n",
    "    print(mycat.sound())\n",
    "    print(\"현재 동물 수:\", Animal.get_animal_count())\n",
    "\n",
    "    # anymal : Animal = Animal() # 추상 클래스는 객체 생성 불가\n",
    "    \n",
    "    anymal : Animal = Dog(\"바둑이\")\n",
    "    print(anymal.sound())\n",
    "    print(\"현재 동물 수:\", Animal.get_animal_count())\n",
    "    \n",
    "    anymallist = [Dog(\"토리\"), Cat(\"나비\"), Dog(\"멍멍이\"), Cat(\"야옹이\")]\n",
    "    for animal in anymallist:\n",
    "        print(animal.sound())\n",
    "        \n",
    "    def make_sound(animals: list[Animal]):\n",
    "        for animal in animals:\n",
    "            print(animal.sound())\n"
   ]
  }
 ],
 "metadata": {
  "kernelspec": {
   "display_name": "Python 3",
   "language": "python",
   "name": "python3"
  },
  "language_info": {
   "codemirror_mode": {
    "name": "ipython",
    "version": 3
   },
   "file_extension": ".py",
   "mimetype": "text/x-python",
   "name": "python",
   "nbconvert_exporter": "python",
   "pygments_lexer": "ipython3",
   "version": "3.13.5"
  }
 },
 "nbformat": 4,
 "nbformat_minor": 5
}
