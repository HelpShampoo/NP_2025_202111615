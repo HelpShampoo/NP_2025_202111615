{
 "cells": [
  {
   "cell_type": "markdown",
   "id": "774147e9",
   "metadata": {},
   "source": [
    "# 2장 연습문제 - 멤버 연산자\n",
    "\n",
    "이 파일은 사물 인터넷을 위한 파이썬 네트워크 프로그래밍 3판 2장 데이터 형, 연산자, 표현식의 2.6절 멤버 연산자 연산자의 연습문제의 풀이를 작성한 것이다.\n",
    "\n",
    "|학과|학번|이름|작성일|\n",
    "|----|----|----|----|\n",
    "|컴퓨터공학과|202111615|함기은|2025-09-15|"
   ]
  },
  {
   "cell_type": "markdown",
   "id": "032430e2",
   "metadata": {},
   "source": [
    "1. 숫자 7이 리스트 [1, 2, 3, 4, 5]에 포함되어 있는지 검사하는 프로그램을 작성하라."
   ]
  },
  {
   "cell_type": "code",
   "execution_count": 3,
   "id": "be204bd2",
   "metadata": {},
   "outputs": [
    {
     "name": "stdout",
     "output_type": "stream",
     "text": [
      "7 is in list = [1, 2, 3, 4, 5]: False\n"
     ]
    }
   ],
   "source": [
    "def is_in(num: int):\n",
    "    list = [1, 2, 3, 4, 5]\n",
    "    if num in list:\n",
    "        return True\n",
    "    else:\n",
    "        return False\n",
    "\n",
    "num = 7\n",
    "print(f\"{num} is in list = [1, 2, 3, 4, 5]: {is_in(num)}\")"
   ]
  },
  {
   "cell_type": "markdown",
   "id": "63e8056c",
   "metadata": {},
   "source": [
    "2. 문자열 \"apple\"이 세트 {\"orange\", \"banana\", \"kiwi\"}에 포함되어 있는지 검사하는 프로\n",
    "그램을 작성하라."
   ]
  },
  {
   "cell_type": "code",
   "execution_count": 4,
   "id": "8d34ec6c",
   "metadata": {},
   "outputs": [
    {
     "name": "stdout",
     "output_type": "stream",
     "text": [
      "\"apple\" is in set = {\"orange\", \"banana\", \"kiwi\"}: False\n"
     ]
    }
   ],
   "source": [
    "def is_in(string1: str):\n",
    "    set1 = {\"orange\", \"banana\", \"kiwi\"}\n",
    "    if string1 in set1:\n",
    "        return True\n",
    "    else:\n",
    "        return False\n",
    "    \n",
    "string1 = \"apple\"\n",
    "print(f'\"{string1}\" is in set = {{\"orange\", \"banana\", \"kiwi\"}}: {is_in(string1)}')"
   ]
  },
  {
   "cell_type": "markdown",
   "id": "d9e8e9d1",
   "metadata": {},
   "source": [
    "3. 숫자 6이 딕셔너리 {\"a\": 1, \"b\": 2, \"c\": 3, \"d\": 4}의 값들 중 하나인지 검사하는 프로그램을\n",
    "작성하라."
   ]
  },
  {
   "cell_type": "code",
   "execution_count": 8,
   "id": "bf170b36",
   "metadata": {},
   "outputs": [
    {
     "name": "stdout",
     "output_type": "stream",
     "text": [
      "6 is in dict values = {'a': 1, 'b': 2, 'c': 3, 'd': 4}: False\n"
     ]
    }
   ],
   "source": [
    "def is_in_dict(num: int) -> bool:\n",
    "    dict1 = {\"a\": 1, \"b\": 2, \"c\": 3, \"d\": 4}\n",
    "    return num in dict1.values()\n",
    "\n",
    "num = 6\n",
    "print(f\"{num} is in dict values = {{'a': 1, 'b': 2, 'c': 3, 'd': 4}}: {is_in_dict(num)}\")"
   ]
  },
  {
   "cell_type": "markdown",
   "id": "89ef88f2",
   "metadata": {},
   "source": [
    "4. 문자열 \"cat\"이 튜플 (\"dog\", \"cat\", \"bird\", \"hamster\")에 포함되어 있는지 검사하는 프로\n",
    "그램을 작성하라."
   ]
  },
  {
   "cell_type": "code",
   "execution_count": 9,
   "id": "dfca18b0",
   "metadata": {},
   "outputs": [
    {
     "name": "stdout",
     "output_type": "stream",
     "text": [
      "\"cat\" is in tuple = (\"dog\", \"cat\", \"bird\", \"hamster\"): True\n"
     ]
    }
   ],
   "source": [
    "def is_in_tuple(s: str) -> bool:\n",
    "    tuple1 = (\"dog\", \"cat\", \"bird\", \"hamster\")\n",
    "    return s in tuple1\n",
    "\n",
    "s = \"cat\"\n",
    "print(f'\"{s}\" is in tuple = (\"dog\", \"cat\", \"bird\", \"hamster\"): {is_in_tuple(s)}')"
   ]
  },
  {
   "cell_type": "markdown",
   "id": "9555b813",
   "metadata": {},
   "source": [
    "5. 숫자 10이 세트 {2, 4, 6, 8, 10}에 포함되어 있는지 검사하는 프로그램을 작성하라."
   ]
  },
  {
   "cell_type": "code",
   "execution_count": 10,
   "id": "10866596",
   "metadata": {},
   "outputs": [
    {
     "name": "stdout",
     "output_type": "stream",
     "text": [
      "10 is in set = {2, 4, 6, 8, 10}: True\n"
     ]
    }
   ],
   "source": [
    "def is_in_set(num: int) -> bool:\n",
    "    set2 = {2, 4, 6, 8, 10}\n",
    "    return num in set2\n",
    "\n",
    "num = 10\n",
    "print(f\"{num} is in set = {{2, 4, 6, 8, 10}}: {is_in_set(num)}\")"
   ]
  }
 ],
 "metadata": {
  "kernelspec": {
   "display_name": "Python 3",
   "language": "python",
   "name": "python3"
  },
  "language_info": {
   "codemirror_mode": {
    "name": "ipython",
    "version": 3
   },
   "file_extension": ".py",
   "mimetype": "text/x-python",
   "name": "python",
   "nbconvert_exporter": "python",
   "pygments_lexer": "ipython3",
   "version": "3.13.5"
  }
 },
 "nbformat": 4,
 "nbformat_minor": 5
}
