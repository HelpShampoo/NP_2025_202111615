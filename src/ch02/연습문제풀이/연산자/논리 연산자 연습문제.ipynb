{
 "cells": [
  {
   "cell_type": "markdown",
   "id": "21ad6873",
   "metadata": {},
   "source": [
    "# 2장 연습문제 - 논리 연산자 연습문제\n",
    "\n",
    "이 파일은 사물 인터넷을 위한 파이썬 네트워크 프로그래밍 3판 2장 데이터 형, 연산자, 표현식의 2.5절 논리 연산자의 연습문제의 풀이를 작성한 것이다.\n",
    "\n",
    "|학과|학번|이름|작성일|\n",
    "|----|----|----|----|\n",
    "|컴퓨터공학과|202111615|함기은|2025-09-15|\n",
    "\n"
   ]
  },
  {
   "cell_type": "markdown",
   "id": "28aec298",
   "metadata": {},
   "source": [
    "1. 5가 3보다 크고 7보다 작은지 검사하는 프로그램을 작성하라.\n"
   ]
  },
  {
   "cell_type": "code",
   "execution_count": 2,
   "id": "1f856f74",
   "metadata": {},
   "outputs": [
    {
     "name": "stdout",
     "output_type": "stream",
     "text": [
      "5 > 3 and 5 < 7\n"
     ]
    }
   ],
   "source": [
    "def compare_number(a: int):\n",
    "    b = 3\n",
    "    c = 7\n",
    "    def compare(x, y):  # 2개의 정수 비교\n",
    "        if x < y:   # x가 y보다 작으면\n",
    "            return '<'\n",
    "        elif x == y:  # x가 y와 같으면\n",
    "            return '='\n",
    "        elif x > y: # x가 y보다 크면\n",
    "            return '>'\n",
    "    print(f'{a} {compare(a, b)} {b} and {a} {compare(a, c)} {c}')   # 형식 지정자 % 대용으로 사용하기 좋은 f-string 사용\n",
    "\n",
    "num = 5\n",
    "compare_number(num)"
   ]
  },
  {
   "cell_type": "markdown",
   "id": "b2b823b7",
   "metadata": {},
   "source": [
    "2. 변수 x가 10 이상이고 20 이하인지 검사하는 프로그램을 작성하라."
   ]
  },
  {
   "cell_type": "code",
   "execution_count": null,
   "id": "0931fbb1",
   "metadata": {},
   "outputs": [],
   "source": [
    "def compare_number(a: int):\n",
    "    b = 10\n",
    "    c = 20\n",
    "    def compare(x, y):  # 2개의 정수 비교\n",
    "        if x < y:   # x가 y보다 작으면\n",
    "            return '<'\n",
    "        elif x == y:  # x가 y와 같으면\n",
    "            return '='\n",
    "        elif x > y: # x가 y보다 크면\n",
    "            return '>'\n",
    "    print(f'{a} {compare(a, b)} {b} and {a} {compare(a, c)} {c}')   # 형식 지정자 % 대용으로 사용하기 좋은 f-string 사용\n",
    "\n",
    "num = 11\n",
    "compare_number(num)"
   ]
  },
  {
   "cell_type": "markdown",
   "id": "2516911d",
   "metadata": {},
   "source": [
    "3. 변수 y가 5의 배수이거나 7의 배수인지 검사하는 프로그램을 작성하라."
   ]
  },
  {
   "cell_type": "code",
   "execution_count": 3,
   "id": "f1af9dd2",
   "metadata": {},
   "outputs": [
    {
     "name": "stdout",
     "output_type": "stream",
     "text": [
      "15 is multiple of 3 and 5: True\n"
     ]
    }
   ],
   "source": [
    "def is_multiple_of_3_or_5(num: int) -> bool:\n",
    "    return num % 3 == 0 and num % 5 == 0\n",
    "\n",
    "y = 15\n",
    "print(f'{y} is multiple of 3 and 5: {is_multiple_of_3_or_5(y)}')"
   ]
  },
  {
   "cell_type": "markdown",
   "id": "4ec085a4",
   "metadata": {},
   "source": [
    "4. 변수 z가 양수이면서 짝수인지 검사하는 프로그램을 작성하라."
   ]
  },
  {
   "cell_type": "code",
   "execution_count": 4,
   "id": "a8598caf",
   "metadata": {},
   "outputs": [
    {
     "name": "stdout",
     "output_type": "stream",
     "text": [
      "8 is positive and even: True\n"
     ]
    }
   ],
   "source": [
    "def is_positive_and_even(num: int) -> bool:\n",
    "    return num > 0 and num % 2 == 0\n",
    "\n",
    "z = 8\n",
    "print(f'{z} is positive and even: {is_positive_and_even(z)}')"
   ]
  },
  {
   "cell_type": "markdown",
   "id": "4b1b526f",
   "metadata": {},
   "source": [
    "5. 변수 a가 문자열 \"hello\"나 문자열 \"world\" 중 하나인지 검사하는 프로그램을 작성하라."
   ]
  },
  {
   "cell_type": "code",
   "execution_count": 6,
   "id": "fbac72a9",
   "metadata": {},
   "outputs": [
    {
     "name": "stdout",
     "output_type": "stream",
     "text": [
      "hello is in \"hello\" or \"world\": True\n"
     ]
    }
   ],
   "source": [
    "def is_in(char: str) -> bool:\n",
    "    return char in \"hello\" or char in \"world\"\n",
    "\n",
    "a = 'hello'\n",
    "print(f'{a} is in \"hello\" or \"world\": {is_in(a)}')"
   ]
  }
 ],
 "metadata": {
  "kernelspec": {
   "display_name": "Python 3",
   "language": "python",
   "name": "python3"
  },
  "language_info": {
   "codemirror_mode": {
    "name": "ipython",
    "version": 3
   },
   "file_extension": ".py",
   "mimetype": "text/x-python",
   "name": "python",
   "nbconvert_exporter": "python",
   "pygments_lexer": "ipython3",
   "version": "3.13.5"
  }
 },
 "nbformat": 4,
 "nbformat_minor": 5
}
