{
 "cells": [
  {
   "cell_type": "markdown",
   "id": "26f12682",
   "metadata": {},
   "source": [
    "# 2장 연습문제 - 산술 및 관계 연산자\n",
    "\n",
    "이 파일은 사물 인터넷을 위한 파이썬 네트워크 프로그래밍 3판 2장 데이터 형, 연산자, 표현식의 2.4절 산술 및 관계 연산자의 연습문제의 풀이를 작성한 것이다.\n",
    "\n",
    "|학과|학번|이름|작성일|\n",
    "|----|----|----|----|\n",
    "|컴퓨터공학과|202111615|함기은|2025-09-10|"
   ]
  },
  {
   "cell_type": "markdown",
   "id": "48d55f87",
   "metadata": {},
   "source": [
    "* 1. 5와 3을 더한 값을 출력하는 프로그램을 작성하라."
   ]
  },
  {
   "cell_type": "code",
   "execution_count": null,
   "id": "0ff360a9",
   "metadata": {},
   "outputs": [
    {
     "name": "stdout",
     "output_type": "stream",
     "text": [
      "5 + 3 = 8입니다.\n"
     ]
    }
   ],
   "source": [
    "# 1. 5와 3을 더한 값을 출력하는 프로그램을 작성하라.\n",
    "def get_add(a: int, b: int):\n",
    "    result = a + b\n",
    "    print(\"d + %d = %d입니다.\" %(a, b, result))\n",
    "\n",
    "a = 5\n",
    "b = 3\n",
    "get_add(a, b)"
   ]
  },
  {
   "cell_type": "markdown",
   "id": "218a4ca7",
   "metadata": {},
   "source": [
    "* 2. 7에서 3을 뺀 값을 출력하는 프로그램을 작성하라.\n"
   ]
  },
  {
   "cell_type": "code",
   "execution_count": null,
   "id": "67e344a8",
   "metadata": {},
   "outputs": [
    {
     "name": "stdout",
     "output_type": "stream",
     "text": [
      "7 - 3 = 4입니다.\n"
     ]
    }
   ],
   "source": [
    "# 2. 7에서 3을 뺀 값을 출력하는 프로그램을 작성하라.\n",
    "def get_sub(a: int, b: int):\n",
    "    result = a - b\n",
    "    print(\"%d - %d = %d입니다.\" %(a, b, result))\n",
    "\n",
    "a = 7\n",
    "b = 3\n",
    "get_sub(a, b)\n"
   ]
  },
  {
   "cell_type": "markdown",
   "id": "ed9bfef2",
   "metadata": {},
   "source": [
    "* 3. 4를 2로 나눈 값을 출력하는 프로그램을 작성하라."
   ]
  },
  {
   "cell_type": "code",
   "execution_count": null,
   "id": "85d54450",
   "metadata": {},
   "outputs": [
    {
     "name": "stdout",
     "output_type": "stream",
     "text": [
      "4 / 2 = 2입니다.\n"
     ]
    }
   ],
   "source": [
    "# 3. 4를 2로 나눈 값을 출력하는 프로그램을 작성하라.\n",
    "def get_div(a: int, b: int):\n",
    "    result = a // 2 # /는 나눗셈, //는 정수 나눗셈\n",
    "    print(\"%d / %d = %d입니다.\" %(a, b, result))\n",
    "\n",
    "a = 4\n",
    "b = 2\n",
    "get_div(a, b)\n",
    "    "
   ]
  },
  {
   "cell_type": "markdown",
   "id": "4079f195",
   "metadata": {},
   "source": [
    "* 4. 8을 3으로 나눈 몫과 나머지를 출력하는 프로그램을 작성하라."
   ]
  },
  {
   "cell_type": "code",
   "execution_count": null,
   "id": "4d93ee52",
   "metadata": {},
   "outputs": [
    {
     "name": "stdout",
     "output_type": "stream",
     "text": [
      "8를 3로 나눈 몫은 2이고 나머지는 2입니다.\n"
     ]
    }
   ],
   "source": [
    "# 4. 8을 3으로 나눈 몫과 나머지를 출력하는 프로그램을 작성하라.\n",
    "def get_div_and_remainder(a: int, b: int):\n",
    "    quotient = a // b\n",
    "    remainder = a % b\n",
    "    print(\"%d를 %d로 나눈 몫은 %d이고 나머지는 %d입니다.\" %(a, b, quotient, remainder))\n",
    "\n",
    "a = 8\n",
    "b = 3\n",
    "get_div_and_remainder(a, b)"
   ]
  },
  {
   "cell_type": "markdown",
   "id": "acbf3d89",
   "metadata": {},
   "source": [
    "* 5. 2의 5제곱을 출력하는 프로그램을 작성하라."
   ]
  },
  {
   "cell_type": "code",
   "execution_count": null,
   "id": "7467a9d2",
   "metadata": {},
   "outputs": [
    {
     "name": "stdout",
     "output_type": "stream",
     "text": [
      "2의 5제곱은 32입니다.\n"
     ]
    }
   ],
   "source": [
    "# 5. 2의 5제곱을 출력하는 프로그램을 작성하라.\n",
    "def get_exponentiation(a: int, n:int):\n",
    "    result = a ** n\n",
    "    print(\"%d의 %d제곱은 %d입니다.\" %(a, n, result))\n",
    "\n",
    "a = 2\n",
    "n = 5\n",
    "get_exponentiation(a, n)"
   ]
  },
  {
   "cell_type": "markdown",
   "id": "ffd3dfa6",
   "metadata": {},
   "source": [
    "* 6. 입력된 정수가 10보다 크고 20보다 작은지 검사하는 프로그램을 작성하라."
   ]
  },
  {
   "cell_type": "code",
   "execution_count": null,
   "id": "a603f668",
   "metadata": {},
   "outputs": [
    {
     "name": "stdout",
     "output_type": "stream",
     "text": [
      "11 > 10 and 11 < 20\n"
     ]
    }
   ],
   "source": [
    "# 6. 입력된 정수가 10보다 크고 20보다 작은지 검사하는 프로그램을 작성하라.\n",
    "def compare_variable_with_specific_values(a:int, b: int, c: int):\n",
    "    def compare(x, y):  # 2개의 정수 비교\n",
    "        if x < y:   # x가 y보다 작으면\n",
    "            return '<'\n",
    "        elif x == y:  # x가 y와 같으면\n",
    "            return '='\n",
    "        elif x > y: # x가 y보다 크면\n",
    "            return '>'\n",
    "    print(f'{a} {compare(a, b)} {b} and {a} {compare(a, c)} {c}')   # 형식 지정자 % 대용으로 사용하기 좋은 f-string 사용\n",
    "a = int(input(\"정수를 입력하세요: \"))\n",
    "b = 10\n",
    "c = 20\n",
    "compare_variable_with_specific_values(a, b, c)"
   ]
  },
  {
   "cell_type": "markdown",
   "id": "b7b904dd",
   "metadata": {},
   "source": [
    "* 7. 문자열 \"hello\"와 문자열 \"world\"를 이어 붙인 결과를 출력하는 프로그램을 작성하라."
   ]
  },
  {
   "cell_type": "code",
   "execution_count": null,
   "id": "6f70acae",
   "metadata": {},
   "outputs": [
    {
     "name": "stdout",
     "output_type": "stream",
     "text": [
      "문자열 hello와 문자열 world의 결합결과는 helloworld입니다.\n"
     ]
    }
   ],
   "source": [
    "# 7. 문자열 \"hello\"와 문자열 \"world\"를 이어 붙인 결과를 출력하는 프로그램을 작성하라.\n",
    "def print_string_combination(string1: str, string2: str):\n",
    "    string3 = string1 + string2 # 문자열 연결\n",
    "    print(\"문자열 %s와 문자열 %s의 결합결과는 %s입니다.\" %(string1, string2, string3))\n",
    "\n",
    "string1 = \"hello\"\n",
    "string2 = \"world\"\n",
    "print_string_combination(string1, string2)"
   ]
  },
  {
   "cell_type": "markdown",
   "id": "d4d27627",
   "metadata": {},
   "source": [
    "* 8. 7을 2로 나눈 결과가 3보다 작은지 검사하는 프로그램을 작성하라."
   ]
  },
  {
   "cell_type": "code",
   "execution_count": 13,
   "id": "da18959f",
   "metadata": {},
   "outputs": [
    {
     "name": "stdout",
     "output_type": "stream",
     "text": [
      "3 = 3\n"
     ]
    }
   ],
   "source": [
    "# 8. 7을 2로 나눈 결과가 3보다 작은지 검사하는 프로그램을 작성하라.\n",
    "def compare_variable_with_specific_value(a:int, b: int, c: int):\n",
    "    result = a // b\n",
    "    def compare(x, y):  # 2개의 정수 비교\n",
    "        if x < y:   # x가 y보다 작으면\n",
    "            return '<'\n",
    "        elif x == y:  # x가 y와 같으면\n",
    "            return '='\n",
    "        elif x > y: # x가 y보다 크면\n",
    "            return '>'\n",
    "    print(f'{result} {compare(result, c)} {c}')   # 형식 지정자 % 대용으로 사용하기 좋은 f-string 사용\n",
    "a = 7\n",
    "b = 2\n",
    "c = 3\n",
    "compare_variable_with_specific_value(a, b, c)"
   ]
  },
  {
   "cell_type": "markdown",
   "id": "e2abd3f7",
   "metadata": {},
   "source": [
    "* 9. 변수 x의 값이 5와 같지 않은지 검사하는 프로그램을 작성하라."
   ]
  },
  {
   "cell_type": "code",
   "execution_count": null,
   "id": "fb2c4eb9",
   "metadata": {},
   "outputs": [
    {
     "name": "stdout",
     "output_type": "stream",
     "text": [
      "5 = 5\n"
     ]
    }
   ],
   "source": [
    "# 9. 변수 x의 값이 5와 같지 않은지 검사하는 프로그램을 작성하라.\n",
    "def compare_two_variable(a: int, b: int):\n",
    "    def compare(x, y):  # 2개의 정수 비교\n",
    "            if x < y:   # x가 y보다 작으면\n",
    "                return '<'\n",
    "            elif x == y:  # x가 y와 같으면\n",
    "                return '='\n",
    "            elif x > y: # x가 y보다 크면\n",
    "                return '>'\n",
    "    print(f'{a} {compare(a, b)} {b}')\n",
    "a = int(input(\"정수를 입력하세요: \"))\n",
    "b = 5\n",
    "compare_two_variable(a, b)"
   ]
  },
  {
   "cell_type": "markdown",
   "id": "10c710e2",
   "metadata": {},
   "source": [
    "* 10. 변수 y의 값이 10에서 20 사이의 값인지 검사하는 프로그램을 작성하라"
   ]
  },
  {
   "cell_type": "code",
   "execution_count": null,
   "id": "c80c610f",
   "metadata": {},
   "outputs": [
    {
     "name": "stdout",
     "output_type": "stream",
     "text": [
      "11 > 10 and 11 < 20\n"
     ]
    }
   ],
   "source": [
    "# 10. 변수 y의 값이 10에서 20 사이의 값인지 검사하는 프로그램을 작성하라\n",
    "def compare_variable_with_specific_value(a:int, b: int, c: int):\n",
    "    def compare(x, y):  # 2개의 정수 비교\n",
    "        if x < y:   # x가 y보다 작으면\n",
    "            return '<'\n",
    "        elif x == y:  # x가 y와 같으면\n",
    "            return '='\n",
    "        elif x > y: # x가 y보다 크면\n",
    "            return '>'\n",
    "    print(f'{a} {compare(a, b)} {b} and {a} {compare(a, c)} {c}')   # 형식 지정자 % 대용으로 사용하기 좋은 f-string 사용\n",
    "a = int(input(\"정수를 입력하세요: \"))\n",
    "b = 10\n",
    "c = 20\n",
    "compare_variable_with_specific_value(a, b, c)"
   ]
  }
 ],
 "metadata": {
  "kernelspec": {
   "display_name": "Python 3",
   "language": "python",
   "name": "python3"
  },
  "language_info": {
   "codemirror_mode": {
    "name": "ipython",
    "version": 3
   },
   "file_extension": ".py",
   "mimetype": "text/x-python",
   "name": "python",
   "nbconvert_exporter": "python",
   "pygments_lexer": "ipython3",
   "version": "3.13.5"
  }
 },
 "nbformat": 4,
 "nbformat_minor": 5
}
