{
 "cells": [
  {
   "cell_type": "markdown",
   "id": "057584dd",
   "metadata": {},
   "source": [
    "# 2장 연습문제 - 연산자 연습문제\n",
    "\n",
    "이 파일은 사물 인터넷을 위한 파이썬 네트워크 프로그래밍 3판 2장 데이터 형, 연산자, 표현식의 연산자의 연습문제의 풀이를 작성한 것이다.\n",
    "\n",
    "|학과|학번|이름|작성일|\n",
    "|----|----|----|----|\n",
    "|컴퓨터공학과|202111615|함기은|2025-09-15|"
   ]
  },
  {
   "cell_type": "markdown",
   "id": "6265a144",
   "metadata": {},
   "source": [
    "1. 초를 입력하면 분과 초로 표시하는 프로그램. 예를 들어, 200초를 입력하면 3분 20초로 표현하\n",
    "라"
   ]
  },
  {
   "cell_type": "code",
   "execution_count": 1,
   "id": "eb40d720",
   "metadata": {},
   "outputs": [
    {
     "name": "stdout",
     "output_type": "stream",
     "text": [
      "200초는 3분 20초입니다.\n"
     ]
    }
   ],
   "source": [
    "# 1. 초를 입력하면 분과 초로 변환하는 함수\n",
    "def convert_seconds_to_minutes(seconds):\n",
    "    \"\"\"\n",
    "    초(seconds)를 입력받아 분과 초로 변환하여 출력합니다.\n",
    "    예: 200초 -> 3분 20초\n",
    "    \"\"\"\n",
    "    minutes = seconds // 60  # 60으로 나눈 몫은 '분'\n",
    "    remaining_seconds = seconds % 60  # 60으로 나눈 나머지는 '초'\n",
    "    print(f\"{seconds}초는 {minutes}분 {remaining_seconds}초입니다.\")\n",
    "\n",
    "# 함수 호출 예시\n",
    "convert_seconds_to_minutes(200)"
   ]
  },
  {
   "cell_type": "markdown",
   "id": "26230787",
   "metadata": {},
   "source": [
    "2. 분(min)을 입력 하면, 일, 시간, 분으로 출력하는 프로그램을 만들어라. (예 : 1550분은 1일 1\n",
    "시간 50분)"
   ]
  },
  {
   "cell_type": "code",
   "execution_count": 2,
   "id": "afc9e1f3",
   "metadata": {},
   "outputs": [
    {
     "name": "stdout",
     "output_type": "stream",
     "text": [
      "1550분은 1일 1시간 50분입니다.\n"
     ]
    }
   ],
   "source": [
    "# 2. 분(min)을 입력하면 일, 시간, 분으로 변환하는 함수\n",
    "def convert_minutes_to_days(minutes):\n",
    "    \"\"\"\n",
    "    분(minutes)을 입력받아 일, 시간, 분으로 변환하여 출력합니다.\n",
    "    예: 1550분 -> 1일 1시간 50분\n",
    "    \"\"\"\n",
    "    # 1일 = 24시간 * 60분 = 1440분\n",
    "    days = minutes // 1440\n",
    "    remaining_minutes = minutes % 1440\n",
    "    \n",
    "    # 1시간 = 60분\n",
    "    hours = remaining_minutes // 60\n",
    "    final_minutes = remaining_minutes % 60\n",
    "    \n",
    "    print(f\"{minutes}분은 {days}일 {hours}시간 {final_minutes}분입니다.\")\n",
    "\n",
    "# 함수 호출 예시\n",
    "convert_minutes_to_days(1550)"
   ]
  },
  {
   "cell_type": "markdown",
   "id": "fcb7710f",
   "metadata": {},
   "source": [
    "3. 500만원을 년이율 5%로 복리 저금했을 때 5년 후의 원리금의 합계를 출력하는 프로그램"
   ]
  },
  {
   "cell_type": "code",
   "execution_count": 3,
   "id": "a1803233",
   "metadata": {},
   "outputs": [
    {
     "name": "stdout",
     "output_type": "stream",
     "text": [
      "원금  5,000,000원을 연이율 5.0%로 5년간 복리 저금 시, 원리금 합계는  6,381,407원입니다.\n"
     ]
    }
   ],
   "source": [
    "# 3. 복리 이자를 계산하는 함수\n",
    "def calculate_compound_interest(principal, rate, years):\n",
    "    \"\"\"\n",
    "    원금(principal), 연이율(rate), 기간(years)을 이용해 복리 계산 후 원리금 합계를 출력합니다.\n",
    "    원리금 합계 = 원금 * (1 + 연이율) ** 기간\n",
    "    \"\"\"\n",
    "    # 원리금 합계 계산\n",
    "    future_value = principal * (1 + rate) ** years\n",
    "    # 계산 결과를 정수로 변환하여 출력\n",
    "    print(f\"원금 {principal: ,}원을 연이율 {rate*100}%로 {years}년간 복리 저금 시, 원리금 합계는 {int(future_value): ,}원입니다.\")\n",
    "\n",
    "# 함수 호출 예시\n",
    "# 500만원, 연이율 5%(0.05), 5년\n",
    "calculate_compound_interest(5000000, 0.05, 5)"
   ]
  },
  {
   "cell_type": "markdown",
   "id": "c1f23365",
   "metadata": {},
   "source": [
    "4. 1부터 n까지의 합은 n(n+1)/2로 주어진다. 1부터 100까지의 합을 구하여 출력하는 프로그램을\n",
    "작성하고 실행하라."
   ]
  },
  {
   "cell_type": "code",
   "execution_count": 5,
   "id": "4d5c2d5c",
   "metadata": {},
   "outputs": [
    {
     "name": "stdout",
     "output_type": "stream",
     "text": [
      "1부터 100까지의 합은 5050입니다.\n"
     ]
    }
   ],
   "source": [
    "# 4. 1부터 n까지의 합을 구하는 함수\n",
    "def sum_up_to_n(n):\n",
    "    \"\"\"\n",
    "    공식 n * (n + 1) / 2를 사용하여 1부터 n까지의 합을 계산합니다.\n",
    "    \"\"\"\n",
    "    total_sum = n * (n + 1) // 2  # 정수형 결과를 얻기 위해 // 연산자 사용\n",
    "    print(f\"1부터 {n}까지의 합은 {total_sum}입니다.\")\n",
    "\n",
    "# 함수 호출 예시 (n=100)\n",
    "sum_up_to_n(100)"
   ]
  },
  {
   "cell_type": "markdown",
   "id": "c5ecf908",
   "metadata": {},
   "source": [
    "5. 판매자가 딸기와 포도를 판매하고 있다. 포도 한 알의 무게는 75g이고 딸기 한 알의 무게는\n",
    "113.5g이다. 사용자로부터 포도 알의 개수와 딸기의 개수를 입력 받아 총 무게를 계산하여 출력\n",
    "하는 프로그램을 작성하고 실행하라."
   ]
  },
  {
   "cell_type": "code",
   "execution_count": 4,
   "id": "c3f71b8a",
   "metadata": {},
   "outputs": [
    {
     "name": "stdout",
     "output_type": "stream",
     "text": [
      "포도 100알과 딸기 50개의 총 무게는 13175.0g입니다.\n"
     ]
    }
   ],
   "source": [
    "# 5. 포도와 딸기의 총 무게를 계산하는 함수\n",
    "def calculate_fruit_weight():\n",
    "    \"\"\"\n",
    "    사용자로부터 포도와 딸기의 개수를 입력받아 총 무게를 계산하여 출력합니다.\n",
    "    - 포도 1알: 75g\n",
    "    - 딸기 1알: 113.5g\n",
    "    \"\"\"\n",
    "    # 과일별 무게 정의\n",
    "    grape_weight = 75\n",
    "    strawberry_weight = 113.5\n",
    "    \n",
    "    # 사용자로부터 과일 개수 입력받기\n",
    "    num_grapes = int(input(\"포도 알의 개수를 입력하세요: \"))\n",
    "    num_strawberries = int(input(\"딸기의 개수를 입력하세요: \"))\n",
    "    \n",
    "    # 총 무게 계산\n",
    "    total_weight = (num_grapes * grape_weight) + (num_strawberries * strawberry_weight)\n",
    "    \n",
    "    print(f\"포도 {num_grapes}알과 딸기 {num_strawberries}개의 총 무게는 {total_weight}g입니다.\")\n",
    "\n",
    "# 함수 호출\n",
    "calculate_fruit_weight()"
   ]
  }
 ],
 "metadata": {
  "kernelspec": {
   "display_name": "Python 3",
   "language": "python",
   "name": "python3"
  },
  "language_info": {
   "codemirror_mode": {
    "name": "ipython",
    "version": 3
   },
   "file_extension": ".py",
   "mimetype": "text/x-python",
   "name": "python",
   "nbconvert_exporter": "python",
   "pygments_lexer": "ipython3",
   "version": "3.13.5"
  }
 },
 "nbformat": 4,
 "nbformat_minor": 5
}
