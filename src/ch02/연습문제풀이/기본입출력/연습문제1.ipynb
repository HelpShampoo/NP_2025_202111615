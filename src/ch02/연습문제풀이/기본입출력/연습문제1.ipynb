{
 "cells": [
  {
   "cell_type": "markdown",
   "id": "9bcfbab6",
   "metadata": {},
   "source": [
    "# 2장 연습문제 - 기본 입출력 함수\n",
    "\n",
    "이 파일은 사물 인터넷을 위한 파이썬 네트워크 프로그래밍 3판 2장 데이터 형, 연산자, 표현식의 2.2절 기본 입출력 함수의 연습문제 1의 풀이를 작성한 것이다.\n",
    "\n",
    "|학과|학번|이름|작성일|\n",
    "|----|----|----|----|\n",
    "|컴퓨터공학과|202111615|함기은|2025-09-10|"
   ]
  },
  {
   "cell_type": "markdown",
   "id": "47a65343",
   "metadata": {},
   "source": [
    "* 1. 키보드에서 임의의 두 실수를 입력 받아 곱한 후 그 결과를 출력하는 프로그램을 작성하고 실행\n",
    "하라"
   ]
  },
  {
   "cell_type": "code",
   "execution_count": 2,
   "id": "a9eb4541",
   "metadata": {},
   "outputs": [
    {
     "name": "stdout",
     "output_type": "stream",
     "text": [
      "두 실수 5.2 와 4.9 의 곱셈 결과는 25.480000000000004 입니다.\n",
      "두 실수 5.20와 4.90의 곱셈 결과는 25.48입니다.\n"
     ]
    }
   ],
   "source": [
    "# 1. 키보드에서 임의의 두 실수를 입력받아 곱한 후 그 결과를 출력하는 프로그램을 작성하고 실행하라\n",
    "def multiply(a: float, b: float) -> float:\n",
    "    return a * b\n",
    "\n",
    "a, b = map(float, input('두 실수를 입력하세요(예: 5.2 4.9): ').split(' '))    # split(' ')으로 공백문자를 기준으로 문자열을 나눔, float()으로 문자열을 실수로 변환함\n",
    "result = multiply(a, b)\n",
    "print('두 실수', a, '와', b, '의 곱셈 결과는', result, '입니다.')\n",
    "print('두 실수 %.2f와 %.2f의 곱셈 결과는 %.2f입니다.' %(a, b, result))"
   ]
  },
  {
   "cell_type": "markdown",
   "id": "e94ce93f",
   "metadata": {},
   "source": [
    "* 2. 1마일은 1.609km이다. 키보드에서 마일(정수)을 입력 받아 km로 변환해 출력하는 프로그램을\n",
    "작성하고 실행하라"
   ]
  },
  {
   "cell_type": "code",
   "execution_count": 5,
   "id": "ff5094e2",
   "metadata": {},
   "outputs": [
    {
     "name": "stdout",
     "output_type": "stream",
     "text": [
      "5마일은 8.045km입니다.\n"
     ]
    }
   ],
   "source": [
    "# 2. 1마일은 1.609km이다. 카보드에서 마일(정수)을 입력 받아 km으로 변환해 출력하는 프로그램을 작성하고 실행하라.\n",
    "def get_mile_to_km(mile: int) -> float:\n",
    "    return mile * 1.609\n",
    "\n",
    "mile = int(input('마일(정수)을 입력하세요: '))    # input() 괄호 내부 안내문구로 사용자 입력 유도, input() 으로 사용자 입력 받음, int()로 문자열을 정수로 변환함\n",
    "km = get_mile_to_km(mile)\n",
    "print('%d마일은 %.3fkm입니다.' %(mile, km))"
   ]
  },
  {
   "cell_type": "markdown",
   "id": "fbb715f5",
   "metadata": {},
   "source": [
    "* 3. 원의 반지름을 입력 받아 원의 둘레와 원의 면적을 출력하는 프로그램을 작성하라"
   ]
  },
  {
   "cell_type": "code",
   "execution_count": 6,
   "id": "feccd356",
   "metadata": {},
   "outputs": [
    {
     "name": "stdout",
     "output_type": "stream",
     "text": [
      "원의 반지름이 5.00일때, 원의 둘레는 31.42, 원의 면적은 78.54입니다.\n"
     ]
    }
   ],
   "source": [
    "# 3. 원의 반지름을 입력받아 원의 둘레와 원의 면적을 출력하는 프로그램을 작성하라.\n",
    "from math import pi # math 모듈에서 pi(원주율 상수)를 가져온다.\n",
    "\n",
    "def get_circle_radius_to_circle_circumference_and_area(radius: float):\n",
    "    circle_circumference = 2 * pi * radius\n",
    "    circle_area = pi * radius ** 2\n",
    "    print('원의 반지름이 %.2f일때, 원의 둘레는 %.2f, 원의 면적은 %.2f입니다.' %(radius, circle_circumference, circle_area))\n",
    "\n",
    "radius = float(input('원의 반지름(실수)를 입력하세요: '))\n",
    "get_circle_radius_to_circle_circumference_and_area(radius)"
   ]
  }
 ],
 "metadata": {
  "kernelspec": {
   "display_name": ".venv (3.13.5)",
   "language": "python",
   "name": "python3"
  },
  "language_info": {
   "codemirror_mode": {
    "name": "ipython",
    "version": 3
   },
   "file_extension": ".py",
   "mimetype": "text/x-python",
   "name": "python",
   "nbconvert_exporter": "python",
   "pygments_lexer": "ipython3",
   "version": "3.13.5"
  }
 },
 "nbformat": 4,
 "nbformat_minor": 5
}
