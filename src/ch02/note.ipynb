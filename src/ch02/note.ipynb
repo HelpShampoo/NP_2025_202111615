{
 "cells": [
  {
   "cell_type": "markdown",
   "id": "5d38a472",
   "metadata": {},
   "source": [
    "# 2장 노트 정리\n",
    "\n",
    "\n",
    "|학과|학번|이름|작성일|\n",
    "|----|----|----|----|\n",
    "|컴퓨터공학과|202111615|함기은|2025-09-09|\n",
    "\n",
    "최종 작성일: 2025-09-24"
   ]
  },
  {
   "cell_type": "markdown",
   "id": "f00ef614",
   "metadata": {},
   "source": [
    "## 기본 입출력 함수\n",
    "```Python\n",
    "print()\n",
    "input()\n",
    "```\n",
    "\n",
    "### 기본 입출력 함수의 종류\n",
    "* print() 함수\n",
    "    * 숫자/문자열 등의 데이터나 수식을 화면에 출력할 때 사용\n",
    "    ```Python\n",
    "    ### print() 함수 사용 예시\n",
    "\n",
    "    >>> print(10+20) #( ) 속의 연산 결과 출력\n",
    "    30\n",
    "    >>> print(\"동양미래대학교\") #문자열 출력\n",
    "    동양미래대학교\n",
    "    >>> print(\"abc \" * 3) #문자열 3번 출력\n",
    "    abc abc abc\n",
    "    >>> x = 25\n",
    "    >>> y = 32\n",
    "    >>> z = x + y\n",
    "    >>> print(x, y) #변수 x, y 값 출력\n",
    "    25 32\n",
    "    >>> print(x, '+', y, '=',z) #문자열과 변수의 조합 출력\n",
    "    25 + 32 = 57\n",
    "    ```\n",
    "\n",
    "* print() 함수 서식 지정\n",
    "    * 숫자/문자열 등의 데이터를 서식을 지정하여 화면에 출력할 때 사용 \n",
    "    ```Python\n",
    "    >>> print(10+20)\n",
    "    30\n",
    "    >>> print(\"10\"+\"20\") #문자열 잇기\n",
    "    1020\n",
    "    >>> print(\"abc \" * 3) #문자열 3번 출력\n",
    "    abc abc abc\n",
    "    >>> n = 10\n",
    "    >>> print(\"n=%d\" %n) #서식 지정 출력\n",
    "    n=10\n",
    "    >>> m = 5.2\n",
    "    >>> print(\"m=%.1f, n=%d\" %(m,n)) #%.1f = 소솟점 1자리까지 표시\n",
    "    m=5.2, n=10\n",
    "    ```\n",
    "\n",
    "    |서식|설명|사용 예|\n",
    "    |----|----|----|\n",
    "    |%d|10진수 정수|print(\"%d\" %10)|\n",
    "    |%f|실수|print(\"%f\" %1.2)|\n",
    "    |%s|문자열|print(\"%s\" %\"cat\")|\n",
    "    |%c|한 글자|print(\"%c\" %\"p\")|\n",
    "    |%x|16진수 정수|print(\"%x\" %10)|\n",
    "    |%o|8진수 정수|print(\"%o\" %s)|\n",
    "\n",
    "* input() 함수\n",
    "    * 키보드를 이용하여 숫자나 문자열 등의 데이터를 입력 받을 때 사용 "
   ]
  },
  {
   "cell_type": "code",
   "execution_count": 3,
   "id": "3ec655f2",
   "metadata": {},
   "outputs": [
    {
     "name": "stdout",
     "output_type": "stream",
     "text": [
      "Hello, World!\n"
     ]
    }
   ],
   "source": [
    "print('Hello, World!')"
   ]
  },
  {
   "cell_type": "code",
   "execution_count": 4,
   "id": "ef7fa053",
   "metadata": {},
   "outputs": [
    {
     "name": "stdout",
     "output_type": "stream",
     "text": [
      "x = 3\n"
     ]
    }
   ],
   "source": [
    "x = 3\n",
    "print(f\"x = {x}\")"
   ]
  },
  {
   "cell_type": "markdown",
   "id": "9c8a5c08",
   "metadata": {},
   "source": [
    ">>> x = 3\n",
    ">>> x\n",
    "3\n",
    ">>>"
   ]
  },
  {
   "cell_type": "code",
   "execution_count": 5,
   "id": "7128defc",
   "metadata": {},
   "outputs": [
    {
     "data": {
      "text/plain": [
       "3"
      ]
     },
     "execution_count": 5,
     "metadata": {},
     "output_type": "execute_result"
    }
   ],
   "source": [
    "x = 3\n",
    "x"
   ]
  },
  {
   "cell_type": "code",
   "execution_count": 8,
   "id": "03fd55a4",
   "metadata": {},
   "outputs": [
    {
     "data": {
      "text/plain": [
       "bool"
      ]
     },
     "execution_count": 8,
     "metadata": {},
     "output_type": "execute_result"
    }
   ],
   "source": [
    "a = True\n",
    "type(a)"
   ]
  },
  {
   "cell_type": "code",
   "execution_count": 9,
   "id": "75b1c9f1",
   "metadata": {},
   "outputs": [
    {
     "data": {
      "text/plain": [
       "202"
      ]
     },
     "execution_count": 9,
     "metadata": {},
     "output_type": "execute_result"
    }
   ],
   "source": [
    "b = 0b11001010\n",
    "b"
   ]
  }
 ],
 "metadata": {
  "kernelspec": {
   "display_name": ".venv (3.13.5)",
   "language": "python",
   "name": "python3"
  },
  "language_info": {
   "codemirror_mode": {
    "name": "ipython",
    "version": 3
   },
   "file_extension": ".py",
   "mimetype": "text/x-python",
   "name": "python",
   "nbconvert_exporter": "python",
   "pygments_lexer": "ipython3",
   "version": "3.13.5"
  }
 },
 "nbformat": 4,
 "nbformat_minor": 5
}
