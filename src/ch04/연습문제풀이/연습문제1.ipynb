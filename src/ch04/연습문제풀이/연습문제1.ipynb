{
 "cells": [
  {
   "cell_type": "markdown",
   "id": "37753ee6",
   "metadata": {},
   "source": [
    "# 4장 연습문제 - 연습문제 1\n",
    "\n",
    "\n",
    "|학과|학번|이름|작성일|\n",
    "|----|----|----|----|\n",
    "|컴퓨터공학과|202111615|함기은|2025-09-15|"
   ]
  },
  {
   "cell_type": "markdown",
   "id": "eaf30791",
   "metadata": {},
   "source": [
    "3명 이상 친구 이름 리스트를 작성하고 다음 내용을 프로그램하시오\n",
    "• insert()로 맨 앞에 새로운 친구 추가\n",
    "• insert()로 3번째 위치에 새로운 친구 추가\n",
    "• append()로 마지막에 친구 추가"
   ]
  },
  {
   "cell_type": "code",
   "execution_count": 1,
   "id": "b2c90019",
   "metadata": {},
   "outputs": [
    {
     "name": "stdout",
     "output_type": "stream",
     "text": [
      "초기 친구 목록: ['김연아', '박지성', '손흥민']\n",
      "맨 앞에 '아이유' 추가 후: ['아이유', '김연아', '박지성', '손흥민']\n",
      "3번째 위치에 '유재석' 추가 후: ['아이유', '김연아', '유재석', '박지성', '손흥민']\n",
      "마지막에 '이효리' 추가 후: ['아이유', '김연아', '유재석', '박지성', '손흥민', '이효리']\n"
     ]
    }
   ],
   "source": [
    "# 친구 목록 수정 함수\n",
    "def manage_friends_list(friends):\n",
    "    \"\"\"\n",
    "    친구 리스트에 새로운 친구를 추가하고 변경 과정을 출력하는 함수\n",
    "    - insert()로 맨 앞에 친구 추가\n",
    "    - insert()로 3번째 위치에 친구 추가\n",
    "    - append()로 마지막에 친구 추가\n",
    "    \"\"\"\n",
    "    print(f\"초기 친구 목록: {friends}\")\n",
    "\n",
    "    # insert()로 맨 앞에 '아이유' 추가\n",
    "    friends.insert(0, '아이유')\n",
    "    print(f\"맨 앞에 '아이유' 추가 후: {friends}\")\n",
    "\n",
    "    # insert()로 3번째 위치(인덱스 2)에 '유재석' 추가\n",
    "    friends.insert(2, '유재석')\n",
    "    print(f\"3번째 위치에 '유재석' 추가 후: {friends}\")\n",
    "\n",
    "    # append()로 마지막에 '이효리' 추가\n",
    "    friends.append('이효리')\n",
    "    print(f\"마지막에 '이효리' 추가 후: {friends}\")\n",
    "\n",
    "# 함수 호출\n",
    "initial_friends = ['김연아', '박지성', '손흥민']\n",
    "manage_friends_list(initial_friends)"
   ]
  },
  {
   "cell_type": "markdown",
   "id": "9aa22722",
   "metadata": {},
   "source": [
    "리스트 [1, 2, 3]에 대해 다음과 같은 처리를 하라.\n",
    "• 두 번째 요소를 17로 수정\n",
    "• 리스트에 4, 5, 6을 추가\n",
    "• 첫 번째 요소 제거\n",
    "• 리스트를 요소 순서대로 배열하기\n",
    "• 인덱스 3에 25넣기"
   ]
  },
  {
   "cell_type": "code",
   "execution_count": 2,
   "id": "cccddf27",
   "metadata": {},
   "outputs": [
    {
     "name": "stdout",
     "output_type": "stream",
     "text": [
      "초기 리스트: [1, 2, 3]\n",
      "두 번째 요소를 17로 수정: [1, 17, 3]\n",
      "4, 5, 6 추가: [1, 17, 3, 4, 5, 6]\n",
      "첫 번째 요소 제거: [17, 3, 4, 5, 6]\n",
      "오름차순 정렬: [3, 4, 5, 6, 17]\n",
      "인덱스 3에 25 추가: [3, 4, 5, 25, 6, 17]\n"
     ]
    }
   ],
   "source": [
    "# 숫자 리스트 변경 함수\n",
    "def manipulate_numbers_list(numbers):\n",
    "    \"\"\"\n",
    "    숫자 리스트에 다양한 연산을 순서대로 적용하는 함수\n",
    "    \"\"\"\n",
    "    print(f\"초기 리스트: {numbers}\")\n",
    "\n",
    "    # 두 번째 요소(인덱스 1)를 17로 수정\n",
    "    numbers[1] = 17\n",
    "    print(f\"두 번째 요소를 17로 수정: {numbers}\")\n",
    "\n",
    "    # 리스트에 4, 5, 6 추가\n",
    "    numbers.extend([4, 5, 6])\n",
    "    print(f\"4, 5, 6 추가: {numbers}\")\n",
    "\n",
    "    # 첫 번째 요소 제거\n",
    "    numbers.pop(0)\n",
    "    print(f\"첫 번째 요소 제거: {numbers}\")\n",
    "\n",
    "    # 리스트를 오름차순으로 정렬\n",
    "    numbers.sort()\n",
    "    print(f\"오름차순 정렬: {numbers}\")\n",
    "\n",
    "    # 인덱스 3에 25 넣기\n",
    "    numbers.insert(3, 25)\n",
    "    print(f\"인덱스 3에 25 추가: {numbers}\")\n",
    "\n",
    "# 함수 호출\n",
    "initial_numbers = [1, 2, 3]\n",
    "manipulate_numbers_list(initial_numbers)"
   ]
  }
 ],
 "metadata": {
  "kernelspec": {
   "display_name": "Python 3",
   "language": "python",
   "name": "python3"
  },
  "language_info": {
   "codemirror_mode": {
    "name": "ipython",
    "version": 3
   },
   "file_extension": ".py",
   "mimetype": "text/x-python",
   "name": "python",
   "nbconvert_exporter": "python",
   "pygments_lexer": "ipython3",
   "version": "3.13.5"
  }
 },
 "nbformat": 4,
 "nbformat_minor": 5
}
