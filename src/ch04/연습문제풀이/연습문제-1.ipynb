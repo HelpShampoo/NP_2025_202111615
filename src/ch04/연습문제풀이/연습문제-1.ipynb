{
 "cells": [
  {
   "cell_type": "markdown",
   "id": "b38d8519",
   "metadata": {},
   "source": [
    "# 4장 연습문제 - 연습문제-1\n",
    "\n",
    "\n",
    "|학과|학번|이름|작성일|\n",
    "|----|----|----|----|\n",
    "|컴퓨터공학과|202111615|함기은|2025-09-15|"
   ]
  },
  {
   "cell_type": "markdown",
   "id": "d47d7cbd",
   "metadata": {},
   "source": [
    "다음 딕셔너리에 대해 물음에 답하라.\n",
    "\n",
    "days = {'January':31, 'February':28, 'March':31, 'April':30,\n",
    "'May':31, 'June':30, 'July':31, 'August':31,\n",
    "'September':30, 'October':31, 'November':30, 'December':31}\n",
    "\n",
    "• 사용자가 월을 입력하면 해당 월에 일수를 출력하라\n",
    "• 알파벳 순서로 모든 월을 출력하라\n",
    "• 일수가 31인 월을 모두 출력하라\n",
    "• 월의 일수를 기준으로 오름차순으로 (key-value) 쌍을 출력하라\n",
    "• 사용자가 월을 3자리만 입력하면 월의 일수를 출력하라.(Jan, Feb 등)"
   ]
  },
  {
   "cell_type": "code",
   "execution_count": 2,
   "id": "e160decc",
   "metadata": {},
   "outputs": [
    {
     "name": "stdout",
     "output_type": "stream",
     "text": [
      "September의 일수는 30일입니다.\n",
      "--------------------\n",
      "알파벳순 월 목록: ['April', 'August', 'December', 'February', 'January', 'July', 'June', 'March', 'May', 'November', 'October', 'September']\n",
      "--------------------\n",
      "일수가 31일인 월: ['January', 'March', 'May', 'July', 'August', 'October', 'December']\n",
      "--------------------\n",
      "일수 기준 오름차순 정렬: [('February', 28), ('April', 30), ('June', 30), ('September', 30), ('November', 30), ('January', 31), ('March', 31), ('May', 31), ('July', 31), ('August', 31), ('October', 31), ('December', 31)]\n",
      "--------------------\n",
      "September의 일수는 30일입니다.\n"
     ]
    }
   ],
   "source": [
    "# 딕셔너리 활용 함수 모음\n",
    "def dictionary_practice():\n",
    "    \"\"\"\n",
    "    월별 일수 딕셔너리를 사용하여 다양한 작업을 수행하는 함수\n",
    "    \"\"\"\n",
    "    days = {\n",
    "        'January': 31, 'February': 28, 'March': 31, 'April': 30,\n",
    "        'May': 31, 'June': 30, 'July': 31, 'August': 31,\n",
    "        'September': 30, 'October': 31, 'November': 30, 'December': 31\n",
    "    }\n",
    "\n",
    "    # 사용자가 월을 입력하면 해당 월의 일수 출력\n",
    "    month_input = input(\"월(전체 이름)을 입력하세요 (예: January): \")\n",
    "    if month_input in days:\n",
    "        print(f\"{month_input}의 일수는 {days[month_input]}일입니다.\")\n",
    "    else:\n",
    "        print(\"잘못된 월 이름입니다.\")\n",
    "    print(\"-\" * 20)\n",
    "\n",
    "    # 알파벳 순서로 모든 월 출력\n",
    "    sorted_months = sorted(days.keys())\n",
    "    print(f\"알파벳순 월 목록: {sorted_months}\")\n",
    "    print(\"-\" * 20)\n",
    "\n",
    "    # 일수가 31인 월을 모두 출력\n",
    "    months_31_days = [month for month, day in days.items() if day == 31]\n",
    "    print(f\"일수가 31일인 월: {months_31_days}\")\n",
    "    print(\"-\" * 20)\n",
    "\n",
    "    # 월의 일수를 기준으로 오름차순으로 (key-value) 쌍 출력\n",
    "    # sorted() 함수의 key 인자로 람다 함수를 사용하여 value를 기준으로 정렬\n",
    "    sorted_by_days = sorted(days.items(), key=lambda item: item[1])\n",
    "    print(f\"일수 기준 오름차순 정렬: {sorted_by_days}\")\n",
    "    print(\"-\" * 20)\n",
    "\n",
    "    # 사용자가 월을 3자리만 입력하면 월의 일수 출력\n",
    "    short_month_input = input(\"월(세 글자 약어)을 입력하세요 (예: Jan): \")\n",
    "    found = False\n",
    "    for month, day in days.items():\n",
    "        # 월 이름의 앞 세 글자가 입력과 일치하는지 확인 (대소문자 무시)\n",
    "        if month.startswith(short_month_input.capitalize()):\n",
    "            print(f\"{month}의 일수는 {day}일입니다.\")\n",
    "            found = True\n",
    "            break\n",
    "    if not found:\n",
    "        print(\"해당하는 월이 없습니다.\")\n",
    "\n",
    "# 함수 호출\n",
    "dictionary_practice()"
   ]
  }
 ],
 "metadata": {
  "kernelspec": {
   "display_name": "Python 3",
   "language": "python",
   "name": "python3"
  },
  "language_info": {
   "codemirror_mode": {
    "name": "ipython",
    "version": 3
   },
   "file_extension": ".py",
   "mimetype": "text/x-python",
   "name": "python",
   "nbconvert_exporter": "python",
   "pygments_lexer": "ipython3",
   "version": "3.13.5"
  }
 },
 "nbformat": 4,
 "nbformat_minor": 5
}
