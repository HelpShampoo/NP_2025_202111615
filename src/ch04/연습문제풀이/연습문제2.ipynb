{
 "cells": [
  {
   "cell_type": "markdown",
   "id": "dd10dcf1",
   "metadata": {},
   "source": [
    "# 4장 연습문제 - 연습문제 2\n",
    "\n",
    "\n",
    "|학과|학번|이름|작성일|\n",
    "|----|----|----|----|\n",
    "|컴퓨터공학과|202111615|함기은|2025-09-15|"
   ]
  },
  {
   "cell_type": "markdown",
   "id": "eb36eb09",
   "metadata": {},
   "source": [
    "1. for 루프를 이용하여 다음과 같은 리스트를 생성하라.\n",
    "• 0~49까지의 수로 구성되는 리스트\n",
    "• 1~50까지 수의 제곱으로 구성되는 리스트"
   ]
  },
  {
   "cell_type": "code",
   "execution_count": 1,
   "id": "afe7c04b",
   "metadata": {},
   "outputs": [
    {
     "name": "stdout",
     "output_type": "stream",
     "text": [
      "0~49까지의 수 리스트: [0, 1, 2, 3, 4, 5, 6, 7, 8, 9, 10, 11, 12, 13, 14, 15, 16, 17, 18, 19, 20, 21, 22, 23, 24, 25, 26, 27, 28, 29, 30, 31, 32, 33, 34, 35, 36, 37, 38, 39, 40, 41, 42, 43, 44, 45, 46, 47, 48, 49]\n",
      "1~50까지 수의 제곱 리스트: [1, 4, 9, 16, 25, 36, 49, 64, 81, 100, 121, 144, 169, 196, 225, 256, 289, 324, 361, 400, 441, 484, 529, 576, 625, 676, 729, 784, 841, 900, 961, 1024, 1089, 1156, 1225, 1296, 1369, 1444, 1521, 1600, 1681, 1764, 1849, 1936, 2025, 2116, 2209, 2304, 2401, 2500]\n"
     ]
    }
   ],
   "source": [
    "# 1. for 루프를 이용한 리스트 생성 함수\n",
    "def create_lists_with_for_loop():\n",
    "    \"\"\"\n",
    "    for 루프(리스트 내포)를 사용하여 두 종류의 리스트를 생성하는 함수\n",
    "    - 0부터 49까지의 수로 구성된 리스트\n",
    "    - 1부터 50까지 수의 제곱으로 구성된 리스트\n",
    "    \"\"\"\n",
    "    # 0부터 49까지의 수로 구성되는 리스트 생성\n",
    "    list1 = [i for i in range(50)]\n",
    "    print(f\"0~49까지의 수 리스트: {list1}\")\n",
    "\n",
    "    # 1부터 50까지 수의 제곱으로 구성되는 리스트 생성\n",
    "    list2 = [i**2 for i in range(1, 51)]\n",
    "    print(f\"1~50까지 수의 제곱 리스트: {list2}\")\n",
    "\n",
    "# 함수 호출\n",
    "create_lists_with_for_loop()"
   ]
  },
  {
   "cell_type": "markdown",
   "id": "3e810e89",
   "metadata": {},
   "source": [
    "2. 크기가 같은 두 개의 리스트 L, M을 생성하고 두 리스트의 각 요소 합으로 구성되는 새로운 리스트를 생성하라. 예를 들어 L=[1,2,3]이고 M=[4,5,6]이면 [5,7,9]인 리스트 생성"
   ]
  },
  {
   "cell_type": "code",
   "execution_count": null,
   "id": "0742fe36",
   "metadata": {},
   "outputs": [
    {
     "name": "stdout",
     "output_type": "stream",
     "text": [
      "[1, 2, 3]와 [4, 5, 6]의 요소별 합 리스트: [5, 7, 9]\n"
     ]
    },
    {
     "data": {
      "text/plain": [
       "[5, 7, 9]"
      ]
     },
     "execution_count": 3,
     "metadata": {},
     "output_type": "execute_result"
    }
   ],
   "source": [
    "# 2. 두 리스트의 요소별 합을 구하는 함수\n",
    "def sum_list_elements(L, M):\n",
    "    \"\"\"\n",
    "    크기가 같은 두 리스트 L, M의 각 요소의 합으로 구성된 새 리스트를 반환하는 함수\n",
    "    \"\"\"\n",
    "    # zip() 함수와 리스트 내포를 사용하여 간결하게 작성 (zip은 두 리스트를 묶을때 사용하는 함수로, 순회 가능한 객체를 인자로 받아, 각 객체에서 동일한 인덱스에 위치한 요소들을 튜플로 묶어줌)\n",
    "    sum_list = [x + y for x, y in zip(L, M)]\n",
    "    print(f\"{L}와 {M}의 요소별 합 리스트: {sum_list}\")\n",
    "    return sum_list\n",
    "\n",
    "# 함수 호출\n",
    "list_L = [1, 2, 3]\n",
    "list_M = [4, 5, 6]\n",
    "sum_list_elements(list_L, list_M)"
   ]
  }
 ],
 "metadata": {
  "kernelspec": {
   "display_name": "Python 3",
   "language": "python",
   "name": "python3"
  },
  "language_info": {
   "codemirror_mode": {
    "name": "ipython",
    "version": 3
   },
   "file_extension": ".py",
   "mimetype": "text/x-python",
   "name": "python",
   "nbconvert_exporter": "python",
   "pygments_lexer": "ipython3",
   "version": "3.13.5"
  }
 },
 "nbformat": 4,
 "nbformat_minor": 5
}
