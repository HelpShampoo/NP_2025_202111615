{
 "cells": [
  {
   "cell_type": "markdown",
   "id": "3cd49eda",
   "metadata": {},
   "source": [
    "# 5장 연습문제\n",
    "\n",
    "\n",
    "|학과|학번|이름|작성일|\n",
    "|----|----|----|----|\n",
    "|컴퓨터공학과|202111615|함기은|2025-09-17|"
   ]
  },
  {
   "cell_type": "markdown",
   "id": "fe150da1",
   "metadata": {},
   "source": [
    "1. 두 개의 매개변수 n, m을 전달받아 m x n개의 * 상자를 출력하는 프로그램을 함수로 작성\n",
    "<br>예: 2, 4 → ****\n",
    "<br>****"
   ]
  },
  {
   "cell_type": "code",
   "execution_count": 7,
   "id": "ff7e2464",
   "metadata": {},
   "outputs": [
    {
     "name": "stdout",
     "output_type": "stream",
     "text": [
      "* * * * \n",
      "\n",
      "* * * * \n",
      "\n"
     ]
    }
   ],
   "source": [
    "def mul(n: int, m: int):\n",
    "    for i in range(0, n):   # 0부터 n-1까지 n회\n",
    "        for i in range(0, m):\n",
    "            print(\"*\", end=\" \")  # m개 출력(end=\"\"로 print()의 개행 방지)\n",
    "        print(\"\\n\") # 개행\n",
    "\n",
    "n = 2\n",
    "m = 4\n",
    "mul(n, m)"
   ]
  },
  {
   "cell_type": "markdown",
   "id": "1788d36a",
   "metadata": {},
   "source": [
    "2. 하나의 숫자를 전달받아 숫자의 자리 합을 구하는 함수를 작성\n",
    "<br>예: 123 → 1+2+3 = 6"
   ]
  },
  {
   "cell_type": "code",
   "execution_count": 8,
   "id": "6ece7018",
   "metadata": {},
   "outputs": [
    {
     "name": "stdout",
     "output_type": "stream",
     "text": [
      "123의 각 자리수의 합: 6\n"
     ]
    }
   ],
   "source": [
    "def sum_of_digits(num: int) -> int:\n",
    "    temp_list = []  # 숫자를 문자열로 변환후 각 자리수를 저장할 임시 리스트\n",
    "    total = 0       # 각 자리수의 합을 저장할 변수, 0으로 초기화\n",
    "    for i in str(num):  # 숫자를 문자열로 변환후 문자열 순회하면서 각 자리수에 해당하는 값을 리스트의 후단에 삽입\n",
    "        temp_list.append(i)\n",
    "    \n",
    "    for i in temp_list: # 각 자리수를 가진 리스트 순회\n",
    "        total += int(i) # 각 자리수를 int형으로 변환후 total에 대입\n",
    "    return total # 숫자의 자리 합 반환\n",
    "\n",
    "num = 123\n",
    "result = sum_of_digits(num)\n",
    "print(f\"{num}의 각 자리수의 합: {result}\")"
   ]
  },
  {
   "cell_type": "markdown",
   "id": "59937edd",
   "metadata": {},
   "source": [
    "3. 두 개의 문자열이 서로 다른 처음 위치를 반환하는 함수를 작성. 두 개의 문자열이 같으면 -1을\n",
    "반환"
   ]
  },
  {
   "cell_type": "code",
   "execution_count": 5,
   "id": "3d465b35",
   "metadata": {},
   "outputs": [
    {
     "name": "stdout",
     "output_type": "stream",
     "text": [
      "5\n"
     ]
    }
   ],
   "source": [
    "def find_first_difference(string1: str, string2: str) -> int:\n",
    "    \n",
    "    if string1 == string2:  # 두 개의 문자열이 같은 경우\n",
    "        return -1\n",
    "    min_length = min(len(string1), len(string2)) # 두 문자열의 길이 중 짧은 길이를 구함\n",
    "    \n",
    "    for i in range(0, min_length):\n",
    "        if string1[i] != string2[i]:    # 두 문자열의 i번째 문자가 다른 경우\n",
    "            return i                    # i 반환        \n",
    "    \n",
    "    return min_length                   # 모든 문자가 동일한 경우, 짧은 문자열의 길이 반환\n",
    "\n",
    "s1 = \"hello\"\n",
    "s2 = \"hellow\"\n",
    "index = find_first_difference(s1, s2)\n",
    "print(index)"
   ]
  },
  {
   "cell_type": "markdown",
   "id": "3efb198c",
   "metadata": {},
   "source": [
    "4. 숫자를 전달받아 그 수의 약수를 리스트로 반환하는 함수를 작성"
   ]
  },
  {
   "cell_type": "code",
   "execution_count": 6,
   "id": "9173c3d0",
   "metadata": {},
   "outputs": [
    {
     "name": "stdout",
     "output_type": "stream",
     "text": [
      "12의 약수: [1, 2, 3, 4, 6, 12]\n"
     ]
    }
   ],
   "source": [
    "def find_divisors(n: int) -> list[int]:\n",
    "    divisors = []                # 약수를 저장할 빈 리스트\n",
    "    for i in range(1, n+1):\n",
    "        if(n % i ==0):           # i가 n의 약수인 경우 \n",
    "            divisors.append(i)   # 리스트에 추가\n",
    "    return divisors              # 약수 리스트 반환\n",
    "\n",
    "n = 12\n",
    "result = find_divisors(n)\n",
    "print(f\"{n}의 약수: {result}\")"
   ]
  },
  {
   "cell_type": "markdown",
   "id": "bcefa182",
   "metadata": {},
   "source": [
    "5. 문자열과 하나의 문자를 전달받아 문자열에서 문자의 위치를 모두 찾아 리스트로 반환하는 함수\n",
    "를 작성"
   ]
  },
  {
   "cell_type": "code",
   "execution_count": 7,
   "id": "0605939c",
   "metadata": {},
   "outputs": [
    {
     "name": "stdout",
     "output_type": "stream",
     "text": [
      "문자열 hello에서 문자 l의 위치는 [2, 3]입니다.\n"
     ]
    }
   ],
   "source": [
    "def find_indexes(s1: str, ch: str) -> list[int]:\n",
    "    index_list = []\n",
    "    for i in range(0, len(s1)): # 0부터 s1의 길이 -1까지 순회\n",
    "        if s1[i] == ch: # s1의 i번째 요소가 ch와 일치하면\n",
    "            index_list.append(i) # 인덱스 i를 리스트 후단에 삽입\n",
    "    return index_list # 리스트 반환\n",
    "\n",
    "greet = \"hello\"\n",
    "character = \"l\"\n",
    "print(f\"문자열 {greet}에서 문자 {character}의 위치는 {find_indexes(greet, character)}입니다.\")"
   ]
  },
  {
   "cell_type": "markdown",
   "id": "f3a1e85e",
   "metadata": {},
   "source": [
    "6. 재귀 함수를 이용하여 1부터 100까지의 합을 계산하는 프로그램"
   ]
  },
  {
   "cell_type": "code",
   "execution_count": 10,
   "id": "a453654d",
   "metadata": {},
   "outputs": [
    {
     "name": "stdout",
     "output_type": "stream",
     "text": [
      "5050\n"
     ]
    }
   ],
   "source": [
    "def recursive_sum(n: int) -> int:\n",
    "    if n == 1:  # n이 1이면\n",
    "        return 1\n",
    "    elif n > 1:\n",
    "        return n + recursive_sum(n-1)\n",
    "    \n",
    "num = 100\n",
    "print(recursive_sum(num))"
   ]
  }
 ],
 "metadata": {
  "kernelspec": {
   "display_name": "Python 3",
   "language": "python",
   "name": "python3"
  },
  "language_info": {
   "codemirror_mode": {
    "name": "ipython",
    "version": 3
   },
   "file_extension": ".py",
   "mimetype": "text/x-python",
   "name": "python",
   "nbconvert_exporter": "python",
   "pygments_lexer": "ipython3",
   "version": "3.13.5"
  }
 },
 "nbformat": 4,
 "nbformat_minor": 5
}
