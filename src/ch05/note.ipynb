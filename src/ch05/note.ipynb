{
 "cells": [
  {
   "cell_type": "markdown",
   "id": "d8e47b90",
   "metadata": {},
   "source": [
    "# 5장 노트 정리\n",
    "\n",
    "\n",
    "|학과|학번|이름|작성일|\n",
    "|----|----|----|----|\n",
    "|컴퓨터공학과|202111615|함기은|2025-09-16|"
   ]
  },
  {
   "cell_type": "markdown",
   "id": "75310888",
   "metadata": {},
   "source": [
    "* f-string\n",
    "f'문자열 {변수} 문자열'"
   ]
  }
 ],
 "metadata": {
  "language_info": {
   "name": "python"
  }
 },
 "nbformat": 4,
 "nbformat_minor": 5
}
