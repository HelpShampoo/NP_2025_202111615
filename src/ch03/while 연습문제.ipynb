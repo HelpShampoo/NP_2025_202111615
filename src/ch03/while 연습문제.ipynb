{
 "cells": [
  {
   "cell_type": "markdown",
   "id": "bb0070df",
   "metadata": {},
   "source": [
    "# 3장 while 연습문제\n",
    "\n",
    "\n",
    "|학과|학번|이름|작성일|\n",
    "|----|----|----|----|\n",
    "|컴퓨터공학과|202111615|함기은|2025-09-23|"
   ]
  },
  {
   "cell_type": "markdown",
   "id": "52f960c1",
   "metadata": {},
   "source": [
    "1. 10진수를 입력 받아 2진수로 변환하여 출력하는 프로그램"
   ]
  },
  {
   "cell_type": "code",
   "execution_count": 1,
   "id": "e9e58eaf",
   "metadata": {},
   "outputs": [
    {
     "name": "stdout",
     "output_type": "stream",
     "text": [
      "2진수 = 1010\n"
     ]
    }
   ],
   "source": [
    "n = int(input('Number: '))\n",
    "result = '' #변환 결과 저장\n",
    "\n",
    "#10진수를 2로 나누어 몫이 0이 될 때까지 반복해서 나머지를 구하낟\n",
    "while n != 0:\n",
    "    m = n % 2 #나머지\n",
    "    result = str(m) + result #숫자를 문자열로 전환\n",
    "    n = n // 2 #몫\n",
    "\n",
    "print(\"2진수 =\", result)"
   ]
  }
 ],
 "metadata": {
  "kernelspec": {
   "display_name": "Python 3",
   "language": "python",
   "name": "python3"
  },
  "language_info": {
   "codemirror_mode": {
    "name": "ipython",
    "version": 3
   },
   "file_extension": ".py",
   "mimetype": "text/x-python",
   "name": "python",
   "nbconvert_exporter": "python",
   "pygments_lexer": "ipython3",
   "version": "3.13.5"
  }
 },
 "nbformat": 4,
 "nbformat_minor": 5
}
