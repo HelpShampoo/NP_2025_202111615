{
 "cells": [
  {
   "cell_type": "markdown",
   "id": "67f2acbe",
   "metadata": {},
   "source": [
    "# 3장 노트 정리\n",
    "\n",
    "\n",
    "|학과|학번|이름|작성일|\n",
    "|----|----|----|----|\n",
    "|컴퓨터공학과|202111615|함기은|2025-09-16|"
   ]
  },
  {
   "cell_type": "markdown",
   "id": "38a88922",
   "metadata": {},
   "source": [
    "## 3장 프로그램의 제어문"
   ]
  },
  {
   "cell_type": "markdown",
   "id": "aad9e9f1",
   "metadata": {},
   "source": [
    "#### 프로그램 제어문\n",
    "* 프로그램은 작성 순서대로 실행\n",
    "* 제어문: 프로그램의 실행 순서를 바꾸는 문장\n",
    "* 조건문\n",
    "    * if, if-else, if-elif-else\n",
    "    * match-case\n",
    "* 반복문\n",
    "    * while\n",
    "    * for\n",
    "* 기타 제어문\n",
    "    * break\n",
    "    * continue"
   ]
  },
  {
   "cell_type": "markdown",
   "id": "e91d367f",
   "metadata": {},
   "source": [
    "### if 제어문\n",
    "* if 문\n",
    "    * 조건을 만족하면 블록을 실행하고 아니면 실행하지 않는 제어문\n",
    "* if 제어문의 종류\n",
    "    * if 문\n",
    "    * if-else 문\n",
    "    * if-elif-else 문"
   ]
  },
  {
   "cell_type": "markdown",
   "id": "e95ee1c1",
   "metadata": {},
   "source": [
    "#### 조건문\n",
    "* if문\n",
    "    * 조건을 만족할 때 정해진 문장 블록을 실행\n",
    "    * 조건이 참(True)이면\n",
    "        * 블록 실행\n",
    "    * 조건이 거짓(False)이면\n",
    "        * 블록 건너뜀"
   ]
  },
  {
   "cell_type": "code",
   "execution_count": null,
   "id": "fb921bd1",
   "metadata": {},
   "outputs": [],
   "source": [
    "score = int(input(\"정수 입력:\"))\n",
    "if score >= 90: #if문 끝에 :을 붙임 -- 점수가 90점 이상이면 장학금 수여\n",
    "    print(\"성적 : A\") #들여쓰기\n",
    "    print(\"장학금 수여\")\n",
    "\n",
    "age_0 = 22 #18 < 나이 < 22 인지 검사\n",
    "age_1 = 18\n",
    "age = int(input(\"your age? \"))\n",
    "if age < age_0 and age > age_1: #복합 조건문\n",
    "    print(\"당신의 나이는 18~22세 사이입니다\")"
   ]
  },
  {
   "cell_type": "markdown",
   "id": "2eef3a3b",
   "metadata": {},
   "source": [
    "* if-else 문\n",
    "    * 조건이 참(True)이면 Block1을 실행하고 else: 는 무시\n",
    "    * 참(True)이 아니면 else: 다음 Block2를 실행"
   ]
  },
  {
   "cell_type": "code",
   "execution_count": null,
   "id": "0f4bb3fd",
   "metadata": {},
   "outputs": [],
   "source": [
    "if score >= 90 :\n",
    "    print(\"pass\")\n",
    "else: #else도 끝에 :을 붙인다\n",
    "    print(\"fail\") #들여쓰기"
   ]
  },
  {
   "cell_type": "code",
   "execution_count": null,
   "id": "29cd682d",
   "metadata": {},
   "outputs": [],
   "source": [
    "# 한 줄로 표현하기\n",
    "res = 'pass' if score >= 90 else 'fail'\n",
    "print(res)"
   ]
  },
  {
   "cell_type": "markdown",
   "id": "950eb5bc",
   "metadata": {},
   "source": [
    "##### 조건문 예제\n",
    "* 평년과 운년 구분하는 프로그램\n",
    "    * 년도가 4로 나뉘어지고 100으로 나뉘어지지 않거나\n",
    "    * 400으로 나뉘어지면 윤년이다 "
   ]
  },
  {
   "cell_type": "code",
   "execution_count": null,
   "id": "160589af",
   "metadata": {},
   "outputs": [],
   "source": [
    "def is_leap_year(year: int):\n",
    "    if(year % 4 == 0 and year % 100 != 0) or (year % 400 == 0):\n",
    "        print(year, \"년은 윤년입니다.\")\n",
    "    else:\n",
    "        print(year, \"년은 평년입니다.\")"
   ]
  },
  {
   "cell_type": "markdown",
   "id": "d701bae2",
   "metadata": {},
   "source": []
  }
 ],
 "metadata": {
  "kernelspec": {
   "display_name": "Python 3",
   "language": "python",
   "name": "python3"
  },
  "language_info": {
   "name": "python",
   "version": "3.13.5"
  }
 },
 "nbformat": 4,
 "nbformat_minor": 5
}
