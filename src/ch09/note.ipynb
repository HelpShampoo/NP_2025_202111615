{
 "cells": [
  {
   "cell_type": "markdown",
   "id": "818015c6",
   "metadata": {},
   "source": [
    "# 9장 노트 정리\n",
    "\n",
    "\n",
    "|학과|학번|이름|작성일|\n",
    "|----|----|----|----|\n",
    "|컴퓨터공학과|202111615|함기은|2025-10-14|"
   ]
  },
  {
   "cell_type": "markdown",
   "id": "09d2d4ee",
   "metadata": {},
   "source": [
    "## 9장 컴퓨터 네트워크 개요"
   ]
  },
  {
   "cell_type": "markdown",
   "id": "18e47228",
   "metadata": {},
   "source": [
    "#### 컴퓨터 네트워크"
   ]
  },
  {
   "cell_type": "markdown",
   "id": "f7b4bd1c",
   "metadata": {
    "vscode": {
     "languageId": "ini"
    }
   },
   "source": [
    "컴퓨터 네트워크란?\n",
    "- 정보와 자원 공유를 위해 링크로 연결된 노드(컴퓨터)들의 집합"
   ]
  },
  {
   "cell_type": "markdown",
   "id": "c01b3bd1",
   "metadata": {},
   "source": [
    "컴퓨터 네트워크 구성요소란\n",
    "- 메시지\n",
    "  - 메시지는 패킷으로 구성\n",
    "    - 패킷\n",
    "      - 헤더와 페이로드로 구성\n",
    "  - 페이로드(Payload)란\n",
    "    - 데이터 전송에 필요한 헤더 등을 제외한 순수한 데이터\n",
    "- 송신자(Sender)\n",
    "  - 메시지를 보내는 장치\n",
    "- 수신자(Receiver)\n",
    "  - 메시지를 받는 장치\n",
    "- 전송매체(Medium)\n",
    "  - 송신자에서 수신자까지 메시지를 전달하는 물리적인 경로\n",
    "  - 꼬임선(twisted pair wire), 동축선(coaxial cable), 광케이블(fiber-optic cable), 레이저 또는 무선전파\n",
    "- 프로토콜(Protocol)\n",
    "  - 데이터 통신을 위한 수행 규칙들의 집합(상호 규약)\n",
    "    - 구문(Syntax): 전송되는 데이터의 구조 및 형식\n",
    "    - 의미(Semantics): 전송되는 데이터의 의미\n",
    "    - 순서(Timing): 데이터의 전송 순서"
   ]
  },
  {
   "cell_type": "markdown",
   "id": "8fc60a92",
   "metadata": {},
   "source": [
    "#### 프로토콜(Protocol)의 구조"
   ]
  },
  {
   "cell_type": "markdown",
   "id": "80ea1728",
   "metadata": {
    "vscode": {
     "languageId": "plaintext"
    }
   },
   "source": [
    "* 프로토콜의 계층 구조란\n",
    "ㅇㅇㅇ"
   ]
  },
  {
   "cell_type": "markdown",
   "id": "2588181f",
   "metadata": {},
   "source": []
  },
  {
   "cell_type": "markdown",
   "id": "f8b15f27",
   "metadata": {},
   "source": [
    "### 9.1 OSE 7계층 참조 모델"
   ]
  },
  {
   "cell_type": "markdown",
   "id": "458ca80c",
   "metadata": {},
   "source": []
  },
  {
   "cell_type": "markdown",
   "id": "3720f424",
   "metadata": {},
   "source": [
    "### TCP/IP 프로토콜"
   ]
  },
  {
   "cell_type": "markdown",
   "id": "b292029a",
   "metadata": {},
   "source": []
  },
  {
   "cell_type": "markdown",
   "id": "2216e457",
   "metadata": {},
   "source": [
    "### IP 주소"
   ]
  }
 ],
 "metadata": {
  "language_info": {
   "name": "python"
  }
 },
 "nbformat": 4,
 "nbformat_minor": 5
}
